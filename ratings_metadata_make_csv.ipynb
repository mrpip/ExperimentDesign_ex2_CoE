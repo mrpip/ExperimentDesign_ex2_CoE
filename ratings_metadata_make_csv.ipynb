{
 "cells": [
  {
   "cell_type": "code",
   "execution_count": 48,
   "metadata": {},
   "outputs": [
    {
     "name": "stdout",
     "output_type": "stream",
     "text": [
      "modules imported successfully\n"
     ]
    }
   ],
   "source": [
    "#Import definitions as new module\n",
    "import sys\n",
    "import os\n",
    "# sys.path.insert(0, os.path.dirname(os.path.abspath('.')))\n",
    "os.chdir(r'C:\\Users\\Pia\\OneDrive\\Data Science\\experiment_design\\ex_2\\CoE_dataset')\n",
    "import pandas as pd\n",
    "pd.options.display.max_columns = 102\n",
    "pd.options.display.max_rows = 100\n",
    "import numpy as np\n",
    "from datetime import datetime\n",
    "import csv\n",
    "import xml.etree.ElementTree as et\n",
    "from pathlib import Path\n",
    "import definitions as defs\n",
    "import aggregate_to_csv as agg\n",
    "from random import seed, sample, choice\n",
    "\n",
    "try:\n",
    "    test = defs.MODE_TEST\n",
    "    test2 = agg.get_parameters.__name__\n",
    "    print('modules imported successfully')\n",
    "except:\n",
    "    print('ERR')\n",
    "\n",
    "import warnings\n",
    "warnings.filterwarnings(\"ignore\", category=DeprecationWarning)"
   ]
  },
  {
   "cell_type": "code",
   "execution_count": 76,
   "metadata": {},
   "outputs": [],
   "source": [
    "def load_data(data_set):\n",
    "\n",
    "    # get the columnnames:\n",
    "    xtree = et.parse(r'Dev_Set\\XML\\A_Fish_Called_Wanda.xml')\n",
    "    xroot = xtree.getroot()\n",
    "    columns = list(xroot.find('movie').keys())\n",
    "    df = pd.DataFrame(columns = columns)\n",
    "\n",
    "    for movie_name in os.listdir(data_set + '_Set/XML'):  \n",
    "        xtree = et.parse(data_set + '_Set/XML/' + movie_name)\n",
    "        xroot = xtree.getroot()\n",
    "        instance = []\n",
    "        for element in columns:\n",
    "            if xroot[0] is not None: # and element != 'goodforairplane': # feature \"good for airplane\" is not filled in \n",
    "                instance.append(xroot.find('movie').get(element))\n",
    "            else:\n",
    "                pass\n",
    "        if len(instance) < len(columns):\n",
    "            instance.append(movie_name[:-3])\n",
    "        my_series = pd.Series(instance, index = columns)\n",
    "        df = df.append(my_series, ignore_index=True)\n",
    "\n",
    "    df.set_index('title', inplace=True)\n",
    "\n",
    "    df = df.loc[:, ['language', 'year', 'genre', 'country', 'runtime', 'rated', 'metascore', 'imdbRating', 'tomatoUserRating']]\n",
    "\n",
    "    # make the feature 'runtime' numeric:\n",
    "    df.runtime = df.runtime.apply(lambda x: x[:-4])\n",
    "    df.runtime = pd.to_numeric(df.runtime, errors='coerce')\n",
    "\n",
    "    # bring the entries of 'rated' which were not filled out into a unique shape:\n",
    "    df.rated.replace(['NOT RATED', 'UNRATED'], 'N/A', inplace=True)\n",
    "\n",
    "    for feature in ['year', 'metascore', 'imdbRating', 'tomatoUserRating']:\n",
    "        df.loc[:, feature] = pd.to_numeric(df.loc[:, feature] , errors='coerce')\n",
    "\n",
    "    return df\n",
    "\n",
    "\n",
    "def get_dummies(df, selected_features=['language', 'genre', 'country', 'rated']):\n",
    "    \n",
    "    df_tmp = df.copy()\n",
    "    for feature in set(selected_features).intersection(['language', 'genre', 'country', 'rated']):  # we only get dummy \n",
    "                                                                                                     # variables for categorical\n",
    "                                                                                                      # data\n",
    "        # split the variables with various entries: \n",
    "        one_hot = df.copy().loc[:, feature].str.split(', ', expand=True).stack()\n",
    "        \n",
    "        one_hot = pd.get_dummies(one_hot, prefix=feature, drop_first=True).groupby(level=0).sum()\n",
    "        df_tmp = df_tmp.drop(feature, axis=1)\n",
    "        df_tmp = df_tmp.merge(one_hot, left_index=True, right_index=True)\n",
    "    \n",
    "    return df_tmp"
   ]
  },
  {
   "cell_type": "code",
   "execution_count": 92,
   "metadata": {},
   "outputs": [
    {
     "name": "stdout",
     "output_type": "stream",
     "text": [
      "Index(['title', 'year', 'rated', 'released', 'runtime', 'genre', 'director',\n",
      "       'writer', 'actors', 'plot', 'language', 'country', 'awards', 'poster',\n",
      "       'metascore', 'imdbRating', 'imdbVotes', 'imdbID', 'type', 'tomatoMeter',\n",
      "       'tomatoImage', 'tomatoRating', 'tomatoReviews', 'tomatoFresh',\n",
      "       'tomatoRotten', 'tomatoConsensus', 'tomatoUserMeter',\n",
      "       'tomatoUserRating', 'tomatoUserReviews', 'DVD', 'BoxOffice',\n",
      "       'Production', 'Website'],\n",
      "      dtype='object')\n",
      "Index(['title', 'year', 'rated', 'released', 'runtime', 'genre', 'director',\n",
      "       'writer', 'actors', 'plot', 'language', 'country', 'awards', 'poster',\n",
      "       'metascore', 'imdbRating', 'imdbVotes', 'imdbID', 'type', 'tomatoMeter',\n",
      "       'tomatoImage', 'tomatoRating', 'tomatoReviews', 'tomatoFresh',\n",
      "       'tomatoRotten', 'tomatoConsensus', 'tomatoUserMeter',\n",
      "       'tomatoUserRating', 'tomatoUserReviews', 'DVD', 'BoxOffice',\n",
      "       'Production', 'Website'],\n",
      "      dtype='object')\n"
     ]
    }
   ],
   "source": [
    "df_dev = load_data('Dev')\n",
    "labels = pd.read_excel(r'Dev_Set\\dev_set_groundtruth_and_trailers.xls', index_col=0).goodforairplane\n",
    "df_dev = df_dev.merge(labels, left_index=True, right_index=True)\n",
    "\n",
    "df_test = load_data('Test')\n",
    "labels = pd.read_csv(r'Test_Set\\CoeTestLabels.csv', index_col=0).goodforairplanes\n",
    "df_test = df_test.merge(labels, left_index=True, right_index=True)\n",
    "df_test.rename(columns={'goodforairplanes': 'goodforairplane'}, inplace=True)\n",
    "\n",
    "df_dev_test = df_dev.append(df_test)\n",
    "df_dev_test = get_dummies(df_dev_test)\n",
    "df_dev_test.index = df_dev_test.index.str.replace('\\'', '')\n",
    "\n",
    "\n",
    "df_dev = df_dev_test.iloc[:86]\n",
    "df_dev.to_csv('metadata_ratings_dev.csv', index=True)\n",
    "\n",
    "df_test = df_dev_test.iloc[86:]\n",
    "df_test.to_csv('metadata_ratings_test.csv', index=True)"
   ]
  },
  {
   "cell_type": "code",
   "execution_count": 94,
   "metadata": {},
   "outputs": [],
   "source": [
    "ratings = ['metascore', 'imdbRating', 'tomatoUserRating']\n",
    "\n",
    "metadata_dev = df_dev[df_dev.columns.difference(ratings)]\n",
    "metadata_dev.to_csv('metadata_dev.csv', index=True)\n",
    "\n",
    "metadata_test = df_test[df_test.columns.difference(ratings)]\n",
    "metadata_test.to_csv('metadata_test.csv', index=True)"
   ]
  },
  {
   "cell_type": "code",
   "execution_count": null,
   "metadata": {},
   "outputs": [],
   "source": []
  }
 ],
 "metadata": {
  "kernelspec": {
   "display_name": "Python 3",
   "language": "python",
   "name": "python3"
  },
  "language_info": {
   "codemirror_mode": {
    "name": "ipython",
    "version": 3
   },
   "file_extension": ".py",
   "mimetype": "text/x-python",
   "name": "python",
   "nbconvert_exporter": "python",
   "pygments_lexer": "ipython3",
   "version": "3.7.4"
  }
 },
 "nbformat": 4,
 "nbformat_minor": 2
}
