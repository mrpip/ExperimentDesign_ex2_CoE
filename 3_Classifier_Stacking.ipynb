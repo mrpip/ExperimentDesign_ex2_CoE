{
 "cells": [
  {
   "cell_type": "code",
   "execution_count": 2,
   "metadata": {},
   "outputs": [],
   "source": [
    "# suppress future warnings\n",
    "import warnings\n",
    "warnings.simplefilter(action='ignore', category=FutureWarning)\n",
    "warnings.simplefilter(action='ignore', category=DeprecationWarning)\n",
    "\n",
    "import pandas as pd\n",
    "import numpy as np\n",
    "import csv\n",
    "import glob\n",
    "import random\n",
    "import ntpath\n",
    "import os"
   ]
  },
  {
   "cell_type": "markdown",
   "metadata": {},
   "source": [
    "### Load Data"
   ]
  },
  {
   "cell_type": "code",
   "execution_count": null,
   "metadata": {},
   "outputs": [],
   "source": [
    "def load_stacking_data(path):\n",
    "    \"\"\" \n",
    "    Load all stacking data files and combine them into a single Pandas DataFrame.\n",
    "    \n",
    "    Returns\n",
    "    --------\n",
    "    stacking_data: data frame used for stacking\n",
    "    \"\"\"\n",
    "    \n",
    "    # create a list of all csv files\n",
    "    all_files = glob.glob(path + \"/*.csv\")\n",
    "\n",
    "    data = []\n",
    "    df = pd.DataFrame()\n",
    "    \n",
    "    for filename in all_files:\n",
    "        li = pd.read_csv(filename, index_col = 0, header = 0)\n",
    "        df = pd.DataFrame(li.values.flatten()).transpose()\n",
    "        df['file_name'] = ntpath.basename(filename).split('.', 1)[0]\n",
    "        data.append(df)            \n",
    "\n",
    "    stacking_data = pd.concat(data, axis=0, ignore_index=True)\n",
    "    stacking_data.set_index(['file_name'], inplace = True)\n",
    "    \n",
    "    return stacking_data"
   ]
  },
  {
   "cell_type": "markdown",
   "metadata": {},
   "source": [
    "## Majority Voting"
   ]
  },
  {
   "cell_type": "code",
   "execution_count": null,
   "metadata": {},
   "outputs": [],
   "source": [
    "# load stacking files\n",
    "path_majority = r'./out/majority_voting/'\n",
    "\n",
    "data_majority = load_stacking_data(path_majority)\n",
    "data_majority.head()"
   ]
  }
 ],
 "metadata": {
  "kernelspec": {
   "display_name": "Python 3",
   "language": "python",
   "name": "python3"
  },
  "language_info": {
   "codemirror_mode": {
    "name": "ipython",
    "version": 3
   },
   "file_extension": ".py",
   "mimetype": "text/x-python",
   "name": "python",
   "nbconvert_exporter": "python",
   "pygments_lexer": "ipython3",
   "version": "3.7.1"
  }
 },
 "nbformat": 4,
 "nbformat_minor": 4
}
