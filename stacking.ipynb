{
 "cells": [
  {
   "cell_type": "code",
   "execution_count": 31,
   "metadata": {},
   "outputs": [],
   "source": [
    "from pandas import DataFrame\n",
    "\n",
    "from metadata_ratings_helper_functions import load_data, get_dummies\n",
    "\n",
    "from sklearn.preprocessing import FunctionTransformer  # makes custom sklearn transformers out of functions "
   ]
  },
  {
   "cell_type": "markdown",
   "metadata": {},
   "source": [
    "## Load the data"
   ]
  },
  {
   "cell_type": "code",
   "execution_count": 54,
   "metadata": {},
   "outputs": [],
   "source": [
    "df = load_data('Dev')\n",
    "df = df.loc[:, ['language', 'year', 'genre', 'country', 'runtime', 'rated']]  # these are the only features used from the \n",
    "                                                                               # metadata\n",
    "df = get_dummies(df)  # get dummies for language, genre, country and rated (rated means for which age the movie is appopriate)\n",
    "\n",
    "labels = pd.read_csv(r'Test_Set\\CoeTestLabels.csv', index_col=0).goodforairplanes"
   ]
  },
  {
   "cell_type": "code",
   "execution_count": null,
   "metadata": {},
   "outputs": [],
   "source": [
    "def return_features(arr, features=['runtime', 'language']): \n",
    "    \"\"\"\n",
    "    Returns the dataframe containing the selected features.\n",
    "    Input: arr: dummy encoded the dataframe\n",
    "           features: the features that the resulting dataframe should contain\n",
    "    \"\"\"\n",
    "    df = pd.DataFrame(arr).copy()  # FunctionTransformer passes a numpy array to the input function, therefore, we convert it \n",
    "                                    # to a dataframe again\n",
    "    \n",
    "    # find the dummy encoded columns that originate from 'features':\n",
    "    features_to_keep = []\n",
    "    for feature in features:\n",
    "        features_to_keep.append([s if s[:len(feature)-1] == feature for s in df.columns])\n",
    "        \n",
    "    return df.loc[features_to_keep]  \n",
    "\n",
    "# make a sklearn transformer object out of our custom function 'return_features':\n",
    "transformer = FunctionTransformer(return_features)\n",
    "\n",
    "transformer.fit_transform(df)"
   ]
  }
 ],
 "metadata": {
  "kernelspec": {
   "display_name": "Python 3",
   "language": "python",
   "name": "python3"
  },
  "language_info": {
   "codemirror_mode": {
    "name": "ipython",
    "version": 3
   },
   "file_extension": ".py",
   "mimetype": "text/x-python",
   "name": "python",
   "nbconvert_exporter": "python",
   "pygments_lexer": "ipython3",
   "version": "3.7.4"
  }
 },
 "nbformat": 4,
 "nbformat_minor": 2
}
