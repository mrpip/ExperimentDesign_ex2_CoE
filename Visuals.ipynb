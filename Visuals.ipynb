{
 "cells": [
  {
   "cell_type": "code",
   "execution_count": 1,
   "metadata": {},
   "outputs": [],
   "source": [
    "# suppress future warnings\n",
    "import warnings\n",
    "warnings.simplefilter(action='ignore', category=FutureWarning)\n",
    "warnings.simplefilter(action='ignore', category=DeprecationWarning)\n",
    "\n",
    "import pandas as pd\n",
    "import numpy as np\n",
    "import csv\n",
    "import glob\n",
    "import random\n",
    "\n",
    "import sklearn\n",
    "from sklearn.metrics import precision_score, recall_score, f1_score, accuracy_score\n",
    "from sklearn.model_selection import GridSearchCV\n",
    "from sklearn.neighbors import KNeighborsClassifier"
   ]
  },
  {
   "cell_type": "markdown",
   "metadata": {},
   "source": [
    "## Load Training Data"
   ]
  },
  {
   "cell_type": "code",
   "execution_count": 2,
   "metadata": {},
   "outputs": [
    {
     "data": {
      "text/html": [
       "<div>\n",
       "<style scoped>\n",
       "    .dataframe tbody tr th:only-of-type {\n",
       "        vertical-align: middle;\n",
       "    }\n",
       "\n",
       "    .dataframe tbody tr th {\n",
       "        vertical-align: top;\n",
       "    }\n",
       "\n",
       "    .dataframe thead th {\n",
       "        text-align: right;\n",
       "    }\n",
       "</style>\n",
       "<table border=\"1\" class=\"dataframe\">\n",
       "  <thead>\n",
       "    <tr style=\"text-align: right;\">\n",
       "      <th></th>\n",
       "      <th>0</th>\n",
       "      <th>1</th>\n",
       "      <th>2</th>\n",
       "      <th>3</th>\n",
       "      <th>4</th>\n",
       "      <th>5</th>\n",
       "      <th>6</th>\n",
       "      <th>7</th>\n",
       "      <th>8</th>\n",
       "      <th>9</th>\n",
       "      <th>...</th>\n",
       "      <th>1642</th>\n",
       "      <th>1643</th>\n",
       "      <th>1644</th>\n",
       "      <th>1645</th>\n",
       "      <th>1646</th>\n",
       "      <th>1647</th>\n",
       "      <th>1648</th>\n",
       "      <th>1649</th>\n",
       "      <th>1650</th>\n",
       "      <th>1651</th>\n",
       "    </tr>\n",
       "    <tr>\n",
       "      <th>file_name</th>\n",
       "      <th></th>\n",
       "      <th></th>\n",
       "      <th></th>\n",
       "      <th></th>\n",
       "      <th></th>\n",
       "      <th></th>\n",
       "      <th></th>\n",
       "      <th></th>\n",
       "      <th></th>\n",
       "      <th></th>\n",
       "      <th></th>\n",
       "      <th></th>\n",
       "      <th></th>\n",
       "      <th></th>\n",
       "      <th></th>\n",
       "      <th></th>\n",
       "      <th></th>\n",
       "      <th></th>\n",
       "      <th></th>\n",
       "      <th></th>\n",
       "      <th></th>\n",
       "    </tr>\n",
       "  </thead>\n",
       "  <tbody>\n",
       "    <tr>\n",
       "      <th>American_Gangster</th>\n",
       "      <td>0.23164</td>\n",
       "      <td>0.28629</td>\n",
       "      <td>0.30068</td>\n",
       "      <td>0.281180</td>\n",
       "      <td>0.24489</td>\n",
       "      <td>0.27849</td>\n",
       "      <td>0.29076</td>\n",
       "      <td>0.29380</td>\n",
       "      <td>0.16104</td>\n",
       "      <td>0.16685</td>\n",
       "      <td>...</td>\n",
       "      <td>232.17</td>\n",
       "      <td>109.62</td>\n",
       "      <td>17.237000</td>\n",
       "      <td>15.543000</td>\n",
       "      <td>13.671000</td>\n",
       "      <td>15.231000</td>\n",
       "      <td>53559.0</td>\n",
       "      <td>8637.40</td>\n",
       "      <td>18597.00</td>\n",
       "      <td>8679.00</td>\n",
       "    </tr>\n",
       "    <tr>\n",
       "      <th>American_Pie</th>\n",
       "      <td>0.23736</td>\n",
       "      <td>0.25019</td>\n",
       "      <td>0.25513</td>\n",
       "      <td>0.260250</td>\n",
       "      <td>0.19318</td>\n",
       "      <td>0.20840</td>\n",
       "      <td>0.29547</td>\n",
       "      <td>0.36341</td>\n",
       "      <td>0.24142</td>\n",
       "      <td>0.25817</td>\n",
       "      <td>...</td>\n",
       "      <td>389.28</td>\n",
       "      <td>112.03</td>\n",
       "      <td>1.481500</td>\n",
       "      <td>2.082400</td>\n",
       "      <td>1.675600</td>\n",
       "      <td>2.140800</td>\n",
       "      <td>2639.4</td>\n",
       "      <td>1377.00</td>\n",
       "      <td>4321.30</td>\n",
       "      <td>1299.10</td>\n",
       "    </tr>\n",
       "    <tr>\n",
       "      <th>Andaz_Apna_Apna</th>\n",
       "      <td>0.00000</td>\n",
       "      <td>0.29416</td>\n",
       "      <td>0.29007</td>\n",
       "      <td>0.011351</td>\n",
       "      <td>0.10093</td>\n",
       "      <td>0.35576</td>\n",
       "      <td>0.36437</td>\n",
       "      <td>0.23632</td>\n",
       "      <td>0.10078</td>\n",
       "      <td>0.34758</td>\n",
       "      <td>...</td>\n",
       "      <td>57486.00</td>\n",
       "      <td>20076.00</td>\n",
       "      <td>9.715800</td>\n",
       "      <td>10.036000</td>\n",
       "      <td>7.630700</td>\n",
       "      <td>11.156000</td>\n",
       "      <td>66445.0</td>\n",
       "      <td>27016.00</td>\n",
       "      <td>60427.00</td>\n",
       "      <td>20459.00</td>\n",
       "    </tr>\n",
       "    <tr>\n",
       "      <th>Anna_Karenina</th>\n",
       "      <td>0.00000</td>\n",
       "      <td>0.00000</td>\n",
       "      <td>0.00000</td>\n",
       "      <td>0.000000</td>\n",
       "      <td>0.00000</td>\n",
       "      <td>0.00000</td>\n",
       "      <td>0.00000</td>\n",
       "      <td>0.00000</td>\n",
       "      <td>0.00000</td>\n",
       "      <td>0.00000</td>\n",
       "      <td>...</td>\n",
       "      <td>230400.00</td>\n",
       "      <td>119950.00</td>\n",
       "      <td>0.000001</td>\n",
       "      <td>0.002466</td>\n",
       "      <td>0.000004</td>\n",
       "      <td>0.002466</td>\n",
       "      <td>729320.0</td>\n",
       "      <td>119950.00</td>\n",
       "      <td>230400.00</td>\n",
       "      <td>119950.00</td>\n",
       "    </tr>\n",
       "    <tr>\n",
       "      <th>A_Fish_Called_Wanda</th>\n",
       "      <td>0.43031</td>\n",
       "      <td>0.38101</td>\n",
       "      <td>0.34082</td>\n",
       "      <td>0.316420</td>\n",
       "      <td>0.41465</td>\n",
       "      <td>0.38599</td>\n",
       "      <td>0.32938</td>\n",
       "      <td>0.31212</td>\n",
       "      <td>0.35067</td>\n",
       "      <td>0.34246</td>\n",
       "      <td>...</td>\n",
       "      <td>765.82</td>\n",
       "      <td>362.83</td>\n",
       "      <td>8.592300</td>\n",
       "      <td>9.142700</td>\n",
       "      <td>8.410100</td>\n",
       "      <td>8.792400</td>\n",
       "      <td>1483.3</td>\n",
       "      <td>417.21</td>\n",
       "      <td>892.59</td>\n",
       "      <td>435.28</td>\n",
       "    </tr>\n",
       "  </tbody>\n",
       "</table>\n",
       "<p>5 rows × 1652 columns</p>\n",
       "</div>"
      ],
      "text/plain": [
       "                        0        1        2         3        4        5     \\\n",
       "file_name                                                                    \n",
       "American_Gangster    0.23164  0.28629  0.30068  0.281180  0.24489  0.27849   \n",
       "American_Pie         0.23736  0.25019  0.25513  0.260250  0.19318  0.20840   \n",
       "Andaz_Apna_Apna      0.00000  0.29416  0.29007  0.011351  0.10093  0.35576   \n",
       "Anna_Karenina        0.00000  0.00000  0.00000  0.000000  0.00000  0.00000   \n",
       "A_Fish_Called_Wanda  0.43031  0.38101  0.34082  0.316420  0.41465  0.38599   \n",
       "\n",
       "                        6        7        8        9       ...           1642  \\\n",
       "file_name                                                  ...                  \n",
       "American_Gangster    0.29076  0.29380  0.16104  0.16685    ...         232.17   \n",
       "American_Pie         0.29547  0.36341  0.24142  0.25817    ...         389.28   \n",
       "Andaz_Apna_Apna      0.36437  0.23632  0.10078  0.34758    ...       57486.00   \n",
       "Anna_Karenina        0.00000  0.00000  0.00000  0.00000    ...      230400.00   \n",
       "A_Fish_Called_Wanda  0.32938  0.31212  0.35067  0.34246    ...         765.82   \n",
       "\n",
       "                          1643       1644       1645       1646       1647  \\\n",
       "file_name                                                                    \n",
       "American_Gangster       109.62  17.237000  15.543000  13.671000  15.231000   \n",
       "American_Pie            112.03   1.481500   2.082400   1.675600   2.140800   \n",
       "Andaz_Apna_Apna       20076.00   9.715800  10.036000   7.630700  11.156000   \n",
       "Anna_Karenina        119950.00   0.000001   0.002466   0.000004   0.002466   \n",
       "A_Fish_Called_Wanda     362.83   8.592300   9.142700   8.410100   8.792400   \n",
       "\n",
       "                         1648       1649       1650       1651  \n",
       "file_name                                                       \n",
       "American_Gangster     53559.0    8637.40   18597.00    8679.00  \n",
       "American_Pie           2639.4    1377.00    4321.30    1299.10  \n",
       "Andaz_Apna_Apna       66445.0   27016.00   60427.00   20459.00  \n",
       "Anna_Karenina        729320.0  119950.00  230400.00  119950.00  \n",
       "A_Fish_Called_Wanda    1483.3     417.21     892.59     435.28  \n",
       "\n",
       "[5 rows x 1652 columns]"
      ]
     },
     "execution_count": 2,
     "metadata": {},
     "output_type": "execute_result"
    }
   ],
   "source": [
    "def load_visuals_data(path, agg = {'none', 'sum', 'mean', 'max', 'min', 'first', 'last'}):\n",
    "    \"\"\" \n",
    "    Load all visuals data files and combine them into a single Pandas DataFrame.\n",
    "    \n",
    "    Parameter agg:\n",
    "    'none': keep both rows as single row\n",
    "    'sum': take the columnwise sum of the rows\n",
    "    'mean': take the columnwise mean of the rows\n",
    "    'max': take the columnwise max of the rows\n",
    "    'min': take the columnwise min of the rows\n",
    "    'first': keep only the first row\n",
    "    'last': keep only the last row\n",
    "    \n",
    "    Returns\n",
    "    --------\n",
    "    visuals_data: data frame containing the visuals data\n",
    "    \"\"\"\n",
    "    \n",
    "    # create a list of all csv files\n",
    "    all_files = glob.glob(path + \"/*.csv\")\n",
    "\n",
    "    data = []\n",
    "    df = pd.DataFrame()\n",
    "\n",
    "    if agg is 'none':\n",
    "        for filename in all_files:\n",
    "            li = pd.read_csv(filename, index_col = None, header = None)\n",
    "            df = pd.DataFrame(li.values.flatten()).transpose()\n",
    "            df['file_name'] = filename.rsplit('\\\\', 1)[1].rsplit('.', 1)[0]\n",
    "            data.append(df)\n",
    "    \n",
    "    elif agg is 'sum':\n",
    "        for filename in all_files:\n",
    "            df = pd.read_csv(filename, index_col = None, header = None)\n",
    "            df.loc['file_name',:]= df.sum(axis=0)\n",
    "            df['file_name'] = filename.rsplit('\\\\', 1)[1].rsplit('.', 1)[0]\n",
    "            df = pd.DataFrame(df.drop([0,1]))\n",
    "            data.append(df)\n",
    "            \n",
    "    elif agg is 'mean':\n",
    "        for filename in all_files:\n",
    "            df = pd.read_csv(filename, index_col = None, header = None)\n",
    "            df.loc['file_name',:]= df.mean(axis=0)\n",
    "            df['file_name'] = filename.rsplit('\\\\', 1)[1].rsplit('.', 1)[0]\n",
    "            df = pd.DataFrame(df.drop([0,1]))\n",
    "            data.append(df)\n",
    "       \n",
    "    elif agg is 'max':\n",
    "        for filename in all_files:\n",
    "            df = pd.read_csv(filename, index_col = None, header = None)\n",
    "            df.loc['file_name',:]= df.max(axis=0)\n",
    "            df['file_name'] = filename.rsplit('\\\\', 1)[1].rsplit('.', 1)[0]\n",
    "            df = pd.DataFrame(df.drop([0,1]))\n",
    "            data.append(df)\n",
    "            \n",
    "    elif agg is 'min':\n",
    "        for filename in all_files:\n",
    "            df = pd.read_csv(filename, index_col = None, header = None)\n",
    "            df.loc['file_name',:]= df.min(axis=0)\n",
    "            df['file_name'] = filename.rsplit('\\\\', 1)[1].rsplit('.', 1)[0]\n",
    "            df = pd.DataFrame(df.drop([0,1]))\n",
    "            data.append(df)\n",
    "            \n",
    "    elif agg is 'first':\n",
    "        for filename in all_files:\n",
    "            df = pd.read_csv(filename, index_col = None, header = None)\n",
    "            df['file_name'] = filename.rsplit('\\\\', 1)[1].rsplit('.', 1)[0]\n",
    "            df = pd.DataFrame(df.drop([1]))\n",
    "            data.append(df)\n",
    "            \n",
    "    elif agg is 'last':\n",
    "        for filename in all_files:\n",
    "            df = pd.read_csv(filename, index_col = None, header = None)\n",
    "            df['file_name'] = filename.rsplit('\\\\', 1)[1].rsplit('.', 1)[0]\n",
    "            df = pd.DataFrame(df.drop([0]))\n",
    "            data.append(df)\n",
    "            \n",
    "    else:\n",
    "        print('Parameter \\'agg\\' needs to be one of the following strings:' )\n",
    "        print('\\'none\\', \\'sum\\', \\'mean\\', \\'max\\', \\'min\\', \\'first\\', \\'last\\'')\n",
    "        return\n",
    "            \n",
    "\n",
    "    visuals_data = pd.concat(data, axis=0, ignore_index=True)\n",
    "    visuals_data.set_index(['file_name'], inplace = True)\n",
    "    \n",
    "    return visuals_data\n",
    "\n",
    "# load visuals files\n",
    "path_vis_train = r'./data/Dev_Set/vis_descriptors'\n",
    "\n",
    "data_visuals = load_visuals_data(path_vis_train, agg = 'none')\n",
    "data_visuals.head()"
   ]
  },
  {
   "cell_type": "code",
   "execution_count": 3,
   "metadata": {},
   "outputs": [
    {
     "data": {
      "text/plain": [
       "(95, 1652)"
      ]
     },
     "execution_count": 3,
     "metadata": {},
     "output_type": "execute_result"
    }
   ],
   "source": [
    "data_visuals.shape"
   ]
  },
  {
   "cell_type": "code",
   "execution_count": 4,
   "metadata": {},
   "outputs": [
    {
     "data": {
      "text/html": [
       "<div>\n",
       "<style scoped>\n",
       "    .dataframe tbody tr th:only-of-type {\n",
       "        vertical-align: middle;\n",
       "    }\n",
       "\n",
       "    .dataframe tbody tr th {\n",
       "        vertical-align: top;\n",
       "    }\n",
       "\n",
       "    .dataframe thead th {\n",
       "        text-align: right;\n",
       "    }\n",
       "</style>\n",
       "<table border=\"1\" class=\"dataframe\">\n",
       "  <thead>\n",
       "    <tr style=\"text-align: right;\">\n",
       "      <th></th>\n",
       "      <th>goodforairplanes</th>\n",
       "    </tr>\n",
       "    <tr>\n",
       "      <th>file_name</th>\n",
       "      <th></th>\n",
       "    </tr>\n",
       "  </thead>\n",
       "  <tbody>\n",
       "    <tr>\n",
       "      <th>Seventh_Son</th>\n",
       "      <td>1</td>\n",
       "    </tr>\n",
       "    <tr>\n",
       "      <th>2_States</th>\n",
       "      <td>0</td>\n",
       "    </tr>\n",
       "    <tr>\n",
       "      <th>Welcome_to_Me</th>\n",
       "      <td>0</td>\n",
       "    </tr>\n",
       "    <tr>\n",
       "      <th>The_Judge</th>\n",
       "      <td>0</td>\n",
       "    </tr>\n",
       "    <tr>\n",
       "      <th>Transformers__Age_of_Extinction</th>\n",
       "      <td>0</td>\n",
       "    </tr>\n",
       "  </tbody>\n",
       "</table>\n",
       "</div>"
      ],
      "text/plain": [
       "                                 goodforairplanes\n",
       "file_name                                        \n",
       "Seventh_Son                                     1\n",
       "2_States                                        0\n",
       "Welcome_to_Me                                   0\n",
       "The_Judge                                       0\n",
       "Transformers__Age_of_Extinction                 0"
      ]
     },
     "execution_count": 4,
     "metadata": {},
     "output_type": "execute_result"
    }
   ],
   "source": [
    "def load_train_test_data(path):\n",
    "    \"\"\" \n",
    "    Load all training or testing data files and combine them into a single Pandas DataFrame.\n",
    "    \n",
    "    Returns\n",
    "    --------\n",
    "    train_test_data: data frame containing the training or testing data\n",
    "    \"\"\"\n",
    "    \n",
    "    train_test_data = pd.read_csv(path, index_col = None, header = 0)\n",
    "    train_test_data = train_test_data.drop(\"movie_name\", axis=1)\n",
    "    train_test_data.set_index(['file_name'], inplace = True)\n",
    "    \n",
    "    return train_test_data\n",
    "\n",
    "\n",
    "# load training data\n",
    "path_train = r'./data/Dev_Set/CoeDevelopmentTrainingdata.csv'\n",
    "\n",
    "data_training = load_train_test_data(path_train)\n",
    "data_training.head()"
   ]
  },
  {
   "cell_type": "code",
   "execution_count": 5,
   "metadata": {},
   "outputs": [
    {
     "data": {
      "text/plain": [
       "(96, 1)"
      ]
     },
     "execution_count": 5,
     "metadata": {},
     "output_type": "execute_result"
    }
   ],
   "source": [
    "data_training.shape"
   ]
  },
  {
   "cell_type": "code",
   "execution_count": 6,
   "metadata": {},
   "outputs": [
    {
     "data": {
      "text/html": [
       "<div>\n",
       "<style scoped>\n",
       "    .dataframe tbody tr th:only-of-type {\n",
       "        vertical-align: middle;\n",
       "    }\n",
       "\n",
       "    .dataframe tbody tr th {\n",
       "        vertical-align: top;\n",
       "    }\n",
       "\n",
       "    .dataframe thead th {\n",
       "        text-align: right;\n",
       "    }\n",
       "</style>\n",
       "<table border=\"1\" class=\"dataframe\">\n",
       "  <thead>\n",
       "    <tr style=\"text-align: right;\">\n",
       "      <th></th>\n",
       "      <th>0</th>\n",
       "      <th>1</th>\n",
       "      <th>2</th>\n",
       "      <th>3</th>\n",
       "      <th>4</th>\n",
       "      <th>5</th>\n",
       "      <th>6</th>\n",
       "      <th>7</th>\n",
       "      <th>8</th>\n",
       "      <th>9</th>\n",
       "      <th>...</th>\n",
       "      <th>1643</th>\n",
       "      <th>1644</th>\n",
       "      <th>1645</th>\n",
       "      <th>1646</th>\n",
       "      <th>1647</th>\n",
       "      <th>1648</th>\n",
       "      <th>1649</th>\n",
       "      <th>1650</th>\n",
       "      <th>1651</th>\n",
       "      <th>goodforairplanes</th>\n",
       "    </tr>\n",
       "    <tr>\n",
       "      <th>file_name</th>\n",
       "      <th></th>\n",
       "      <th></th>\n",
       "      <th></th>\n",
       "      <th></th>\n",
       "      <th></th>\n",
       "      <th></th>\n",
       "      <th></th>\n",
       "      <th></th>\n",
       "      <th></th>\n",
       "      <th></th>\n",
       "      <th></th>\n",
       "      <th></th>\n",
       "      <th></th>\n",
       "      <th></th>\n",
       "      <th></th>\n",
       "      <th></th>\n",
       "      <th></th>\n",
       "      <th></th>\n",
       "      <th></th>\n",
       "      <th></th>\n",
       "      <th></th>\n",
       "    </tr>\n",
       "  </thead>\n",
       "  <tbody>\n",
       "    <tr>\n",
       "      <th>American_Gangster</th>\n",
       "      <td>0.23164</td>\n",
       "      <td>0.28629</td>\n",
       "      <td>0.30068</td>\n",
       "      <td>0.281180</td>\n",
       "      <td>0.24489</td>\n",
       "      <td>0.27849</td>\n",
       "      <td>0.29076</td>\n",
       "      <td>0.29380</td>\n",
       "      <td>0.16104</td>\n",
       "      <td>0.16685</td>\n",
       "      <td>...</td>\n",
       "      <td>109.62</td>\n",
       "      <td>17.237000</td>\n",
       "      <td>15.543000</td>\n",
       "      <td>13.671000</td>\n",
       "      <td>15.231000</td>\n",
       "      <td>53559.0</td>\n",
       "      <td>8637.40</td>\n",
       "      <td>18597.00</td>\n",
       "      <td>8679.00</td>\n",
       "      <td>1</td>\n",
       "    </tr>\n",
       "    <tr>\n",
       "      <th>American_Pie</th>\n",
       "      <td>0.23736</td>\n",
       "      <td>0.25019</td>\n",
       "      <td>0.25513</td>\n",
       "      <td>0.260250</td>\n",
       "      <td>0.19318</td>\n",
       "      <td>0.20840</td>\n",
       "      <td>0.29547</td>\n",
       "      <td>0.36341</td>\n",
       "      <td>0.24142</td>\n",
       "      <td>0.25817</td>\n",
       "      <td>...</td>\n",
       "      <td>112.03</td>\n",
       "      <td>1.481500</td>\n",
       "      <td>2.082400</td>\n",
       "      <td>1.675600</td>\n",
       "      <td>2.140800</td>\n",
       "      <td>2639.4</td>\n",
       "      <td>1377.00</td>\n",
       "      <td>4321.30</td>\n",
       "      <td>1299.10</td>\n",
       "      <td>1</td>\n",
       "    </tr>\n",
       "    <tr>\n",
       "      <th>Andaz_Apna_Apna</th>\n",
       "      <td>0.00000</td>\n",
       "      <td>0.29416</td>\n",
       "      <td>0.29007</td>\n",
       "      <td>0.011351</td>\n",
       "      <td>0.10093</td>\n",
       "      <td>0.35576</td>\n",
       "      <td>0.36437</td>\n",
       "      <td>0.23632</td>\n",
       "      <td>0.10078</td>\n",
       "      <td>0.34758</td>\n",
       "      <td>...</td>\n",
       "      <td>20076.00</td>\n",
       "      <td>9.715800</td>\n",
       "      <td>10.036000</td>\n",
       "      <td>7.630700</td>\n",
       "      <td>11.156000</td>\n",
       "      <td>66445.0</td>\n",
       "      <td>27016.00</td>\n",
       "      <td>60427.00</td>\n",
       "      <td>20459.00</td>\n",
       "      <td>1</td>\n",
       "    </tr>\n",
       "    <tr>\n",
       "      <th>Anna_Karenina</th>\n",
       "      <td>0.00000</td>\n",
       "      <td>0.00000</td>\n",
       "      <td>0.00000</td>\n",
       "      <td>0.000000</td>\n",
       "      <td>0.00000</td>\n",
       "      <td>0.00000</td>\n",
       "      <td>0.00000</td>\n",
       "      <td>0.00000</td>\n",
       "      <td>0.00000</td>\n",
       "      <td>0.00000</td>\n",
       "      <td>...</td>\n",
       "      <td>119950.00</td>\n",
       "      <td>0.000001</td>\n",
       "      <td>0.002466</td>\n",
       "      <td>0.000004</td>\n",
       "      <td>0.002466</td>\n",
       "      <td>729320.0</td>\n",
       "      <td>119950.00</td>\n",
       "      <td>230400.00</td>\n",
       "      <td>119950.00</td>\n",
       "      <td>1</td>\n",
       "    </tr>\n",
       "    <tr>\n",
       "      <th>A_Fish_Called_Wanda</th>\n",
       "      <td>0.43031</td>\n",
       "      <td>0.38101</td>\n",
       "      <td>0.34082</td>\n",
       "      <td>0.316420</td>\n",
       "      <td>0.41465</td>\n",
       "      <td>0.38599</td>\n",
       "      <td>0.32938</td>\n",
       "      <td>0.31212</td>\n",
       "      <td>0.35067</td>\n",
       "      <td>0.34246</td>\n",
       "      <td>...</td>\n",
       "      <td>362.83</td>\n",
       "      <td>8.592300</td>\n",
       "      <td>9.142700</td>\n",
       "      <td>8.410100</td>\n",
       "      <td>8.792400</td>\n",
       "      <td>1483.3</td>\n",
       "      <td>417.21</td>\n",
       "      <td>892.59</td>\n",
       "      <td>435.28</td>\n",
       "      <td>1</td>\n",
       "    </tr>\n",
       "  </tbody>\n",
       "</table>\n",
       "<p>5 rows × 1653 columns</p>\n",
       "</div>"
      ],
      "text/plain": [
       "                           0        1        2         3        4        5  \\\n",
       "file_name                                                                    \n",
       "American_Gangster    0.23164  0.28629  0.30068  0.281180  0.24489  0.27849   \n",
       "American_Pie         0.23736  0.25019  0.25513  0.260250  0.19318  0.20840   \n",
       "Andaz_Apna_Apna      0.00000  0.29416  0.29007  0.011351  0.10093  0.35576   \n",
       "Anna_Karenina        0.00000  0.00000  0.00000  0.000000  0.00000  0.00000   \n",
       "A_Fish_Called_Wanda  0.43031  0.38101  0.34082  0.316420  0.41465  0.38599   \n",
       "\n",
       "                           6        7        8        9        ...         \\\n",
       "file_name                                                      ...          \n",
       "American_Gangster    0.29076  0.29380  0.16104  0.16685        ...          \n",
       "American_Pie         0.29547  0.36341  0.24142  0.25817        ...          \n",
       "Andaz_Apna_Apna      0.36437  0.23632  0.10078  0.34758        ...          \n",
       "Anna_Karenina        0.00000  0.00000  0.00000  0.00000        ...          \n",
       "A_Fish_Called_Wanda  0.32938  0.31212  0.35067  0.34246        ...          \n",
       "\n",
       "                          1643       1644       1645       1646       1647  \\\n",
       "file_name                                                                    \n",
       "American_Gangster       109.62  17.237000  15.543000  13.671000  15.231000   \n",
       "American_Pie            112.03   1.481500   2.082400   1.675600   2.140800   \n",
       "Andaz_Apna_Apna       20076.00   9.715800  10.036000   7.630700  11.156000   \n",
       "Anna_Karenina        119950.00   0.000001   0.002466   0.000004   0.002466   \n",
       "A_Fish_Called_Wanda     362.83   8.592300   9.142700   8.410100   8.792400   \n",
       "\n",
       "                         1648       1649       1650       1651  \\\n",
       "file_name                                                        \n",
       "American_Gangster     53559.0    8637.40   18597.00    8679.00   \n",
       "American_Pie           2639.4    1377.00    4321.30    1299.10   \n",
       "Andaz_Apna_Apna       66445.0   27016.00   60427.00   20459.00   \n",
       "Anna_Karenina        729320.0  119950.00  230400.00  119950.00   \n",
       "A_Fish_Called_Wanda    1483.3     417.21     892.59     435.28   \n",
       "\n",
       "                     goodforairplanes  \n",
       "file_name                              \n",
       "American_Gangster                   1  \n",
       "American_Pie                        1  \n",
       "Andaz_Apna_Apna                     1  \n",
       "Anna_Karenina                       1  \n",
       "A_Fish_Called_Wanda                 1  \n",
       "\n",
       "[5 rows x 1653 columns]"
      ]
     },
     "execution_count": 6,
     "metadata": {},
     "output_type": "execute_result"
    }
   ],
   "source": [
    "# merge training data with visuals data\n",
    "train = pd.merge(data_visuals, data_training, left_index = True, right_index=True)\n",
    "train.head()"
   ]
  },
  {
   "cell_type": "code",
   "execution_count": 7,
   "metadata": {},
   "outputs": [
    {
     "data": {
      "text/plain": [
       "(94, 1653)"
      ]
     },
     "execution_count": 7,
     "metadata": {},
     "output_type": "execute_result"
    }
   ],
   "source": [
    "train.shape"
   ]
  },
  {
   "cell_type": "markdown",
   "metadata": {},
   "source": [
    "## Load Testing Data"
   ]
  },
  {
   "cell_type": "code",
   "execution_count": 8,
   "metadata": {},
   "outputs": [
    {
     "data": {
      "text/html": [
       "<div>\n",
       "<style scoped>\n",
       "    .dataframe tbody tr th:only-of-type {\n",
       "        vertical-align: middle;\n",
       "    }\n",
       "\n",
       "    .dataframe tbody tr th {\n",
       "        vertical-align: top;\n",
       "    }\n",
       "\n",
       "    .dataframe thead th {\n",
       "        text-align: right;\n",
       "    }\n",
       "</style>\n",
       "<table border=\"1\" class=\"dataframe\">\n",
       "  <thead>\n",
       "    <tr style=\"text-align: right;\">\n",
       "      <th></th>\n",
       "      <th>0</th>\n",
       "      <th>1</th>\n",
       "      <th>2</th>\n",
       "      <th>3</th>\n",
       "      <th>4</th>\n",
       "      <th>5</th>\n",
       "      <th>6</th>\n",
       "      <th>7</th>\n",
       "      <th>8</th>\n",
       "      <th>9</th>\n",
       "      <th>...</th>\n",
       "      <th>1642</th>\n",
       "      <th>1643</th>\n",
       "      <th>1644</th>\n",
       "      <th>1645</th>\n",
       "      <th>1646</th>\n",
       "      <th>1647</th>\n",
       "      <th>1648</th>\n",
       "      <th>1649</th>\n",
       "      <th>1650</th>\n",
       "      <th>1651</th>\n",
       "    </tr>\n",
       "    <tr>\n",
       "      <th>file_name</th>\n",
       "      <th></th>\n",
       "      <th></th>\n",
       "      <th></th>\n",
       "      <th></th>\n",
       "      <th></th>\n",
       "      <th></th>\n",
       "      <th></th>\n",
       "      <th></th>\n",
       "      <th></th>\n",
       "      <th></th>\n",
       "      <th></th>\n",
       "      <th></th>\n",
       "      <th></th>\n",
       "      <th></th>\n",
       "      <th></th>\n",
       "      <th></th>\n",
       "      <th></th>\n",
       "      <th></th>\n",
       "      <th></th>\n",
       "      <th></th>\n",
       "      <th></th>\n",
       "    </tr>\n",
       "  </thead>\n",
       "  <tbody>\n",
       "    <tr>\n",
       "      <th>10.000_Km</th>\n",
       "      <td>0.000000</td>\n",
       "      <td>0.00000</td>\n",
       "      <td>0.000000</td>\n",
       "      <td>0.000000</td>\n",
       "      <td>0.00000</td>\n",
       "      <td>0.00000</td>\n",
       "      <td>0.00000</td>\n",
       "      <td>0.00000</td>\n",
       "      <td>0.000000</td>\n",
       "      <td>0.00000</td>\n",
       "      <td>...</td>\n",
       "      <td>518400.00</td>\n",
       "      <td>269700.00</td>\n",
       "      <td>6.103500e-07</td>\n",
       "      <td>0.001645</td>\n",
       "      <td>0.000002</td>\n",
       "      <td>0.001645</td>\n",
       "      <td>1638400.0</td>\n",
       "      <td>269700.0</td>\n",
       "      <td>518400.0</td>\n",
       "      <td>269700.0</td>\n",
       "    </tr>\n",
       "    <tr>\n",
       "      <th>12_Years_a_Slave</th>\n",
       "      <td>0.000000</td>\n",
       "      <td>0.19300</td>\n",
       "      <td>0.192990</td>\n",
       "      <td>0.000000</td>\n",
       "      <td>0.00000</td>\n",
       "      <td>0.27110</td>\n",
       "      <td>0.27110</td>\n",
       "      <td>0.00000</td>\n",
       "      <td>0.000000</td>\n",
       "      <td>0.27024</td>\n",
       "      <td>...</td>\n",
       "      <td>30830.00</td>\n",
       "      <td>15454.00</td>\n",
       "      <td>1.529400e+01</td>\n",
       "      <td>13.422000</td>\n",
       "      <td>13.418000</td>\n",
       "      <td>13.307000</td>\n",
       "      <td>71633.0</td>\n",
       "      <td>21855.0</td>\n",
       "      <td>48314.0</td>\n",
       "      <td>24434.0</td>\n",
       "    </tr>\n",
       "    <tr>\n",
       "      <th>21_Jump_Street</th>\n",
       "      <td>0.000000</td>\n",
       "      <td>0.00000</td>\n",
       "      <td>0.000000</td>\n",
       "      <td>0.000000</td>\n",
       "      <td>0.00000</td>\n",
       "      <td>0.00000</td>\n",
       "      <td>0.00000</td>\n",
       "      <td>0.00000</td>\n",
       "      <td>0.000000</td>\n",
       "      <td>0.00000</td>\n",
       "      <td>...</td>\n",
       "      <td>230400.00</td>\n",
       "      <td>119790.00</td>\n",
       "      <td>1.377600e-06</td>\n",
       "      <td>0.002470</td>\n",
       "      <td>0.000004</td>\n",
       "      <td>0.002470</td>\n",
       "      <td>725900.0</td>\n",
       "      <td>119790.0</td>\n",
       "      <td>230400.0</td>\n",
       "      <td>119790.0</td>\n",
       "    </tr>\n",
       "    <tr>\n",
       "      <th>2_States</th>\n",
       "      <td>0.033181</td>\n",
       "      <td>0.08976</td>\n",
       "      <td>0.073469</td>\n",
       "      <td>0.012184</td>\n",
       "      <td>0.10137</td>\n",
       "      <td>0.28969</td>\n",
       "      <td>0.26856</td>\n",
       "      <td>0.02602</td>\n",
       "      <td>0.071337</td>\n",
       "      <td>0.33020</td>\n",
       "      <td>...</td>\n",
       "      <td>629.31</td>\n",
       "      <td>476.71</td>\n",
       "      <td>4.443100e+00</td>\n",
       "      <td>3.533400</td>\n",
       "      <td>2.715900</td>\n",
       "      <td>3.786900</td>\n",
       "      <td>203660.0</td>\n",
       "      <td>20777.0</td>\n",
       "      <td>29696.0</td>\n",
       "      <td>19740.0</td>\n",
       "    </tr>\n",
       "    <tr>\n",
       "      <th>Aanmodderfakker</th>\n",
       "      <td>0.271970</td>\n",
       "      <td>0.33421</td>\n",
       "      <td>0.316890</td>\n",
       "      <td>0.307720</td>\n",
       "      <td>0.26515</td>\n",
       "      <td>0.27671</td>\n",
       "      <td>0.26563</td>\n",
       "      <td>0.27590</td>\n",
       "      <td>0.240060</td>\n",
       "      <td>0.14513</td>\n",
       "      <td>...</td>\n",
       "      <td>126.59</td>\n",
       "      <td>86.86</td>\n",
       "      <td>6.819900e+00</td>\n",
       "      <td>7.184600</td>\n",
       "      <td>6.196700</td>\n",
       "      <td>7.160700</td>\n",
       "      <td>5318.3</td>\n",
       "      <td>1022.9</td>\n",
       "      <td>3030.9</td>\n",
       "      <td>1012.1</td>\n",
       "    </tr>\n",
       "  </tbody>\n",
       "</table>\n",
       "<p>5 rows × 1652 columns</p>\n",
       "</div>"
      ],
      "text/plain": [
       "                      0        1         2         3        4        5     \\\n",
       "file_name                                                                   \n",
       "10.000_Km         0.000000  0.00000  0.000000  0.000000  0.00000  0.00000   \n",
       "12_Years_a_Slave  0.000000  0.19300  0.192990  0.000000  0.00000  0.27110   \n",
       "21_Jump_Street    0.000000  0.00000  0.000000  0.000000  0.00000  0.00000   \n",
       "2_States          0.033181  0.08976  0.073469  0.012184  0.10137  0.28969   \n",
       "Aanmodderfakker   0.271970  0.33421  0.316890  0.307720  0.26515  0.27671   \n",
       "\n",
       "                     6        7         8        9       ...          1642  \\\n",
       "file_name                                                ...                 \n",
       "10.000_Km         0.00000  0.00000  0.000000  0.00000    ...     518400.00   \n",
       "12_Years_a_Slave  0.27110  0.00000  0.000000  0.27024    ...      30830.00   \n",
       "21_Jump_Street    0.00000  0.00000  0.000000  0.00000    ...     230400.00   \n",
       "2_States          0.26856  0.02602  0.071337  0.33020    ...        629.31   \n",
       "Aanmodderfakker   0.26563  0.27590  0.240060  0.14513    ...        126.59   \n",
       "\n",
       "                       1643          1644       1645       1646       1647  \\\n",
       "file_name                                                                    \n",
       "10.000_Km         269700.00  6.103500e-07   0.001645   0.000002   0.001645   \n",
       "12_Years_a_Slave   15454.00  1.529400e+01  13.422000  13.418000  13.307000   \n",
       "21_Jump_Street    119790.00  1.377600e-06   0.002470   0.000004   0.002470   \n",
       "2_States             476.71  4.443100e+00   3.533400   2.715900   3.786900   \n",
       "Aanmodderfakker       86.86  6.819900e+00   7.184600   6.196700   7.160700   \n",
       "\n",
       "                       1648      1649      1650      1651  \n",
       "file_name                                                  \n",
       "10.000_Km         1638400.0  269700.0  518400.0  269700.0  \n",
       "12_Years_a_Slave    71633.0   21855.0   48314.0   24434.0  \n",
       "21_Jump_Street     725900.0  119790.0  230400.0  119790.0  \n",
       "2_States           203660.0   20777.0   29696.0   19740.0  \n",
       "Aanmodderfakker      5318.3    1022.9    3030.9    1012.1  \n",
       "\n",
       "[5 rows x 1652 columns]"
      ]
     },
     "execution_count": 8,
     "metadata": {},
     "output_type": "execute_result"
    }
   ],
   "source": [
    "# load visuals data for testing\n",
    "path_vis_test = r'./data/Test_Set/vis_descriptors'\n",
    "\n",
    "data_visuals_test = load_visuals_data(path_vis_test, agg = 'none')\n",
    "data_visuals_test.head()"
   ]
  },
  {
   "cell_type": "code",
   "execution_count": 9,
   "metadata": {},
   "outputs": [
    {
     "data": {
      "text/plain": [
       "(223, 1652)"
      ]
     },
     "execution_count": 9,
     "metadata": {},
     "output_type": "execute_result"
    }
   ],
   "source": [
    "data_visuals_test.shape"
   ]
  },
  {
   "cell_type": "code",
   "execution_count": 10,
   "metadata": {},
   "outputs": [
    {
     "data": {
      "text/html": [
       "<div>\n",
       "<style scoped>\n",
       "    .dataframe tbody tr th:only-of-type {\n",
       "        vertical-align: middle;\n",
       "    }\n",
       "\n",
       "    .dataframe tbody tr th {\n",
       "        vertical-align: top;\n",
       "    }\n",
       "\n",
       "    .dataframe thead th {\n",
       "        text-align: right;\n",
       "    }\n",
       "</style>\n",
       "<table border=\"1\" class=\"dataframe\">\n",
       "  <thead>\n",
       "    <tr style=\"text-align: right;\">\n",
       "      <th></th>\n",
       "      <th>goodforairplanes</th>\n",
       "    </tr>\n",
       "    <tr>\n",
       "      <th>file_name</th>\n",
       "      <th></th>\n",
       "    </tr>\n",
       "  </thead>\n",
       "  <tbody>\n",
       "    <tr>\n",
       "      <th>Belle_de_Jour</th>\n",
       "      <td>1</td>\n",
       "    </tr>\n",
       "    <tr>\n",
       "      <th>Big_Game</th>\n",
       "      <td>0</td>\n",
       "    </tr>\n",
       "    <tr>\n",
       "      <th>Birdman__Or_(The_Unexpected_Virtue_of_Ignorance).mp4</th>\n",
       "      <td>1</td>\n",
       "    </tr>\n",
       "    <tr>\n",
       "      <th>Dances_with_Wolves</th>\n",
       "      <td>0</td>\n",
       "    </tr>\n",
       "    <tr>\n",
       "      <th>Dilwale_Dulhania_Le_Jayenge</th>\n",
       "      <td>0</td>\n",
       "    </tr>\n",
       "  </tbody>\n",
       "</table>\n",
       "</div>"
      ],
      "text/plain": [
       "                                                    goodforairplanes\n",
       "file_name                                                           \n",
       "Belle_de_Jour                                                      1\n",
       "Big_Game                                                           0\n",
       "Birdman__Or_(The_Unexpected_Virtue_of_Ignorance...                 1\n",
       "Dances_with_Wolves                                                 0\n",
       "Dilwale_Dulhania_Le_Jayenge                                        0"
      ]
     },
     "execution_count": 10,
     "metadata": {},
     "output_type": "execute_result"
    }
   ],
   "source": [
    "# load testing data\n",
    "path_test = r'./data/Dev_Set/CoeDevelopmentTestdata.csv'\n",
    "\n",
    "data_testing = load_train_test_data(path_test)\n",
    "data_testing.head()"
   ]
  },
  {
   "cell_type": "code",
   "execution_count": 11,
   "metadata": {},
   "outputs": [
    {
     "data": {
      "text/plain": [
       "(50, 1)"
      ]
     },
     "execution_count": 11,
     "metadata": {},
     "output_type": "execute_result"
    }
   ],
   "source": [
    "data_testing.shape"
   ]
  },
  {
   "cell_type": "code",
   "execution_count": 12,
   "metadata": {},
   "outputs": [
    {
     "data": {
      "text/html": [
       "<div>\n",
       "<style scoped>\n",
       "    .dataframe tbody tr th:only-of-type {\n",
       "        vertical-align: middle;\n",
       "    }\n",
       "\n",
       "    .dataframe tbody tr th {\n",
       "        vertical-align: top;\n",
       "    }\n",
       "\n",
       "    .dataframe thead th {\n",
       "        text-align: right;\n",
       "    }\n",
       "</style>\n",
       "<table border=\"1\" class=\"dataframe\">\n",
       "  <thead>\n",
       "    <tr style=\"text-align: right;\">\n",
       "      <th></th>\n",
       "      <th>0</th>\n",
       "      <th>1</th>\n",
       "      <th>2</th>\n",
       "      <th>3</th>\n",
       "      <th>4</th>\n",
       "      <th>5</th>\n",
       "      <th>6</th>\n",
       "      <th>7</th>\n",
       "      <th>8</th>\n",
       "      <th>9</th>\n",
       "      <th>...</th>\n",
       "      <th>1643</th>\n",
       "      <th>1644</th>\n",
       "      <th>1645</th>\n",
       "      <th>1646</th>\n",
       "      <th>1647</th>\n",
       "      <th>1648</th>\n",
       "      <th>1649</th>\n",
       "      <th>1650</th>\n",
       "      <th>1651</th>\n",
       "      <th>goodforairplanes</th>\n",
       "    </tr>\n",
       "    <tr>\n",
       "      <th>file_name</th>\n",
       "      <th></th>\n",
       "      <th></th>\n",
       "      <th></th>\n",
       "      <th></th>\n",
       "      <th></th>\n",
       "      <th></th>\n",
       "      <th></th>\n",
       "      <th></th>\n",
       "      <th></th>\n",
       "      <th></th>\n",
       "      <th></th>\n",
       "      <th></th>\n",
       "      <th></th>\n",
       "      <th></th>\n",
       "      <th></th>\n",
       "      <th></th>\n",
       "      <th></th>\n",
       "      <th></th>\n",
       "      <th></th>\n",
       "      <th></th>\n",
       "      <th></th>\n",
       "    </tr>\n",
       "  </thead>\n",
       "  <tbody>\n",
       "    <tr>\n",
       "      <th>Belle_de_Jour</th>\n",
       "      <td>0.005963</td>\n",
       "      <td>0.023951</td>\n",
       "      <td>0.02851</td>\n",
       "      <td>0.061558</td>\n",
       "      <td>0.044613</td>\n",
       "      <td>0.049806</td>\n",
       "      <td>0.032554</td>\n",
       "      <td>0.070085</td>\n",
       "      <td>0.040795</td>\n",
       "      <td>0.04645</td>\n",
       "      <td>...</td>\n",
       "      <td>121.67</td>\n",
       "      <td>2.113700e+00</td>\n",
       "      <td>1.993900</td>\n",
       "      <td>1.016400</td>\n",
       "      <td>2.126400</td>\n",
       "      <td>6797.7</td>\n",
       "      <td>2722.4</td>\n",
       "      <td>8510.8</td>\n",
       "      <td>2390.5</td>\n",
       "      <td>1</td>\n",
       "    </tr>\n",
       "    <tr>\n",
       "      <th>Big_Game</th>\n",
       "      <td>0.000000</td>\n",
       "      <td>0.000000</td>\n",
       "      <td>0.00000</td>\n",
       "      <td>0.000000</td>\n",
       "      <td>0.000000</td>\n",
       "      <td>0.000000</td>\n",
       "      <td>0.000000</td>\n",
       "      <td>0.000000</td>\n",
       "      <td>0.000000</td>\n",
       "      <td>0.00000</td>\n",
       "      <td>...</td>\n",
       "      <td>269700.00</td>\n",
       "      <td>6.103500e-07</td>\n",
       "      <td>0.001645</td>\n",
       "      <td>0.000002</td>\n",
       "      <td>0.001645</td>\n",
       "      <td>1638400.0</td>\n",
       "      <td>269700.0</td>\n",
       "      <td>518400.0</td>\n",
       "      <td>269700.0</td>\n",
       "      <td>0</td>\n",
       "    </tr>\n",
       "    <tr>\n",
       "      <th>Dances_with_Wolves</th>\n",
       "      <td>0.000000</td>\n",
       "      <td>0.000000</td>\n",
       "      <td>0.00000</td>\n",
       "      <td>0.000000</td>\n",
       "      <td>0.000000</td>\n",
       "      <td>0.000000</td>\n",
       "      <td>0.000000</td>\n",
       "      <td>0.000000</td>\n",
       "      <td>0.000000</td>\n",
       "      <td>0.00000</td>\n",
       "      <td>...</td>\n",
       "      <td>428.99</td>\n",
       "      <td>1.498300e+00</td>\n",
       "      <td>1.696100</td>\n",
       "      <td>1.480500</td>\n",
       "      <td>1.807500</td>\n",
       "      <td>10665.0</td>\n",
       "      <td>3592.4</td>\n",
       "      <td>7577.9</td>\n",
       "      <td>3450.6</td>\n",
       "      <td>0</td>\n",
       "    </tr>\n",
       "    <tr>\n",
       "      <th>Dilwale_Dulhania_Le_Jayenge</th>\n",
       "      <td>0.403410</td>\n",
       "      <td>0.234640</td>\n",
       "      <td>0.26453</td>\n",
       "      <td>0.116000</td>\n",
       "      <td>0.279260</td>\n",
       "      <td>0.207210</td>\n",
       "      <td>0.253800</td>\n",
       "      <td>0.118750</td>\n",
       "      <td>0.055308</td>\n",
       "      <td>0.14537</td>\n",
       "      <td>...</td>\n",
       "      <td>4403.80</td>\n",
       "      <td>4.515600e+00</td>\n",
       "      <td>6.012900</td>\n",
       "      <td>6.012900</td>\n",
       "      <td>6.026800</td>\n",
       "      <td>40098.0</td>\n",
       "      <td>8133.8</td>\n",
       "      <td>16631.0</td>\n",
       "      <td>6912.5</td>\n",
       "      <td>0</td>\n",
       "    </tr>\n",
       "    <tr>\n",
       "      <th>Dorsvloer_vol_confetti</th>\n",
       "      <td>0.000000</td>\n",
       "      <td>0.000000</td>\n",
       "      <td>0.00000</td>\n",
       "      <td>0.000000</td>\n",
       "      <td>0.000000</td>\n",
       "      <td>0.000000</td>\n",
       "      <td>0.000000</td>\n",
       "      <td>0.000000</td>\n",
       "      <td>0.000000</td>\n",
       "      <td>0.00000</td>\n",
       "      <td>...</td>\n",
       "      <td>108440.00</td>\n",
       "      <td>2.503800e+00</td>\n",
       "      <td>0.831420</td>\n",
       "      <td>1.263600</td>\n",
       "      <td>1.883000</td>\n",
       "      <td>549320.0</td>\n",
       "      <td>131340.0</td>\n",
       "      <td>242430.0</td>\n",
       "      <td>111750.0</td>\n",
       "      <td>1</td>\n",
       "    </tr>\n",
       "  </tbody>\n",
       "</table>\n",
       "<p>5 rows × 1653 columns</p>\n",
       "</div>"
      ],
      "text/plain": [
       "                                    0         1        2         3         4  \\\n",
       "file_name                                                                      \n",
       "Belle_de_Jour                0.005963  0.023951  0.02851  0.061558  0.044613   \n",
       "Big_Game                     0.000000  0.000000  0.00000  0.000000  0.000000   \n",
       "Dances_with_Wolves           0.000000  0.000000  0.00000  0.000000  0.000000   \n",
       "Dilwale_Dulhania_Le_Jayenge  0.403410  0.234640  0.26453  0.116000  0.279260   \n",
       "Dorsvloer_vol_confetti       0.000000  0.000000  0.00000  0.000000  0.000000   \n",
       "\n",
       "                                    5         6         7         8        9  \\\n",
       "file_name                                                                      \n",
       "Belle_de_Jour                0.049806  0.032554  0.070085  0.040795  0.04645   \n",
       "Big_Game                     0.000000  0.000000  0.000000  0.000000  0.00000   \n",
       "Dances_with_Wolves           0.000000  0.000000  0.000000  0.000000  0.00000   \n",
       "Dilwale_Dulhania_Le_Jayenge  0.207210  0.253800  0.118750  0.055308  0.14537   \n",
       "Dorsvloer_vol_confetti       0.000000  0.000000  0.000000  0.000000  0.00000   \n",
       "\n",
       "                                   ...              1643          1644  \\\n",
       "file_name                          ...                                   \n",
       "Belle_de_Jour                      ...            121.67  2.113700e+00   \n",
       "Big_Game                           ...         269700.00  6.103500e-07   \n",
       "Dances_with_Wolves                 ...            428.99  1.498300e+00   \n",
       "Dilwale_Dulhania_Le_Jayenge        ...           4403.80  4.515600e+00   \n",
       "Dorsvloer_vol_confetti             ...         108440.00  2.503800e+00   \n",
       "\n",
       "                                 1645      1646      1647       1648  \\\n",
       "file_name                                                              \n",
       "Belle_de_Jour                1.993900  1.016400  2.126400     6797.7   \n",
       "Big_Game                     0.001645  0.000002  0.001645  1638400.0   \n",
       "Dances_with_Wolves           1.696100  1.480500  1.807500    10665.0   \n",
       "Dilwale_Dulhania_Le_Jayenge  6.012900  6.012900  6.026800    40098.0   \n",
       "Dorsvloer_vol_confetti       0.831420  1.263600  1.883000   549320.0   \n",
       "\n",
       "                                 1649      1650      1651  goodforairplanes  \n",
       "file_name                                                                    \n",
       "Belle_de_Jour                  2722.4    8510.8    2390.5                 1  \n",
       "Big_Game                     269700.0  518400.0  269700.0                 0  \n",
       "Dances_with_Wolves             3592.4    7577.9    3450.6                 0  \n",
       "Dilwale_Dulhania_Le_Jayenge    8133.8   16631.0    6912.5                 0  \n",
       "Dorsvloer_vol_confetti       131340.0  242430.0  111750.0                 1  \n",
       "\n",
       "[5 rows x 1653 columns]"
      ]
     },
     "execution_count": 12,
     "metadata": {},
     "output_type": "execute_result"
    }
   ],
   "source": [
    "# merge testing data with visuals data\n",
    "test = pd.merge(data_visuals_test, data_testing, left_index = True, right_index=True)\n",
    "test.head()"
   ]
  },
  {
   "cell_type": "code",
   "execution_count": 13,
   "metadata": {},
   "outputs": [
    {
     "data": {
      "text/plain": [
       "(48, 1653)"
      ]
     },
     "execution_count": 13,
     "metadata": {},
     "output_type": "execute_result"
    }
   ],
   "source": [
    "test.shape"
   ]
  },
  {
   "cell_type": "markdown",
   "metadata": {},
   "source": [
    "# Las Vegas Wrapper - Feature Selection"
   ]
  },
  {
   "cell_type": "code",
   "execution_count": 14,
   "metadata": {},
   "outputs": [],
   "source": [
    "def LVW(classifier_function, tX, ty, vX, vy, K, original_features):\n",
    "    \n",
    "    err = 0\n",
    "    k = 0\n",
    "    C = 100\n",
    "    \n",
    "    while k < K:\n",
    "        print('k: ', k)\n",
    "        ran_choice = range(1,len(original_features)-1)\n",
    "        S1 = random.sample(original_features, random.choice(ran_choice))\n",
    "        C1 = len(S1)\n",
    "        \n",
    "        x_train = tX[tX.columns.intersection(S1)]\n",
    "        x_test = vX[vX.columns.intersection(S1)]\n",
    "        \n",
    "        err1 = classifier_function(tX, ty, vX, vy, acc = True)\n",
    "        \n",
    "        if (err1 > err) or (err1 == err and C1 < C):\n",
    "            k = 0\n",
    "            err = err1\n",
    "            C = C1\n",
    "            S = S1\n",
    "        \n",
    "        else:\n",
    "            k += 1\n",
    "            \n",
    "    return S"
   ]
  },
  {
   "cell_type": "markdown",
   "metadata": {},
   "source": [
    "# Prediction Models"
   ]
  },
  {
   "cell_type": "markdown",
   "metadata": {},
   "source": [
    "## KNN"
   ]
  },
  {
   "cell_type": "code",
   "execution_count": 15,
   "metadata": {},
   "outputs": [],
   "source": [
    "def KNN(tX, ty, vX, vy, acc = False, CV = 10):\n",
    "    \n",
    "    knn = KNeighborsClassifier()\n",
    "\n",
    "    # CV\n",
    "    param_grid = {'n_neighbors': range(1, 83)}\n",
    "\n",
    "    grid_knn = GridSearchCV(knn, param_grid, cv = CV)\n",
    "    grid_knn.fit(tX, ty)\n",
    "\n",
    "    # test set\n",
    "    predictions = grid_knn.predict(vX)\n",
    "    \n",
    "    if acc:\n",
    "        return accuracy_score(vy, predictions)\n",
    "    else:    \n",
    "        return predictions"
   ]
  },
  {
   "cell_type": "markdown",
   "metadata": {},
   "source": [
    "### Try different aggregations for the training and testing set using all features"
   ]
  },
  {
   "cell_type": "markdown",
   "metadata": {},
   "source": [
    "#### Keep both rows"
   ]
  },
  {
   "cell_type": "code",
   "execution_count": 16,
   "metadata": {},
   "outputs": [
    {
     "name": "stderr",
     "output_type": "stream",
     "text": [
      "C:\\Users\\lilli\\Anaconda3\\lib\\site-packages\\sklearn\\model_selection\\_search.py:841: DeprecationWarning: The default of the `iid` parameter will change from True to False in version 0.22 and will be removed in 0.24. This will change numeric results when test-set sizes are unequal.\n",
      "  DeprecationWarning)\n"
     ]
    }
   ],
   "source": [
    "# train/test split\n",
    "X_train = train.iloc[:, :-1]\n",
    "Y_train = train.iloc[:,-1]\n",
    "\n",
    "X_test = test.iloc[:, :-1]\n",
    "Y_test = test.iloc[:,-1]\n",
    "\n",
    "# KNN\n",
    "Y_pred = KNN(X_train, Y_train, X_test, Y_test)\n",
    "\n",
    "knn_precision = precision_score(Y_test, Y_pred)\n",
    "knn_recall = recall_score(Y_test, Y_pred)\n",
    "knn_f1 = f1_score(Y_test, Y_pred)"
   ]
  },
  {
   "cell_type": "markdown",
   "metadata": {},
   "source": [
    "#### Sum"
   ]
  },
  {
   "cell_type": "code",
   "execution_count": 17,
   "metadata": {},
   "outputs": [],
   "source": [
    "# try a different training and testing set\n",
    "data_visuals_total = load_visuals_data(path_vis_train, agg = 'sum')\n",
    "\n",
    "# merge training data with visuals data\n",
    "train_total = pd.merge(data_visuals_total, data_training, left_index = True, right_index=True)\n",
    "\n",
    "# same with testing set\n",
    "data_visuals_test_total = load_visuals_data(path_vis_test, agg = 'sum')\n",
    "\n",
    "# merge training data with visuals data\n",
    "test_total = pd.merge(data_visuals_test_total, data_testing, left_index = True, right_index=True)"
   ]
  },
  {
   "cell_type": "code",
   "execution_count": 18,
   "metadata": {},
   "outputs": [
    {
     "name": "stderr",
     "output_type": "stream",
     "text": [
      "C:\\Users\\lilli\\Anaconda3\\lib\\site-packages\\sklearn\\model_selection\\_search.py:841: DeprecationWarning: The default of the `iid` parameter will change from True to False in version 0.22 and will be removed in 0.24. This will change numeric results when test-set sizes are unequal.\n",
      "  DeprecationWarning)\n"
     ]
    }
   ],
   "source": [
    "# train/test split\n",
    "X_train_total = train_total.iloc[:, :-1]\n",
    "Y_train_total = train_total.iloc[:,-1]\n",
    "\n",
    "X_test_total = test_total.iloc[:, :-1]\n",
    "Y_test_total = test_total.iloc[:,-1]\n",
    "\n",
    "# KNN\n",
    "Y_pred_total = KNN(X_train_total, Y_train_total, X_test_total, Y_test_total)\n",
    "\n",
    "knn_precision_total = precision_score(Y_test_total, Y_pred_total)\n",
    "knn_recall_total = recall_score(Y_test_total, Y_pred_total)\n",
    "knn_f1_total = f1_score(Y_test_total, Y_pred_total)"
   ]
  },
  {
   "cell_type": "markdown",
   "metadata": {},
   "source": [
    "#### Mean"
   ]
  },
  {
   "cell_type": "code",
   "execution_count": 19,
   "metadata": {},
   "outputs": [],
   "source": [
    "# try a different training and testing set\n",
    "data_visuals_mean = load_visuals_data(path_vis_train, agg = 'mean')\n",
    "\n",
    "# merge training data with visuals data\n",
    "train_mean = pd.merge(data_visuals_mean, data_training, left_index = True, right_index=True)\n",
    "\n",
    "# same with testing set\n",
    "data_visuals_test_mean = load_visuals_data(path_vis_test, agg = 'mean')\n",
    "\n",
    "# merge training data with visuals data\n",
    "test_mean = pd.merge(data_visuals_test_mean, data_testing, left_index = True, right_index=True)"
   ]
  },
  {
   "cell_type": "code",
   "execution_count": 20,
   "metadata": {},
   "outputs": [
    {
     "name": "stderr",
     "output_type": "stream",
     "text": [
      "C:\\Users\\lilli\\Anaconda3\\lib\\site-packages\\sklearn\\model_selection\\_search.py:841: DeprecationWarning: The default of the `iid` parameter will change from True to False in version 0.22 and will be removed in 0.24. This will change numeric results when test-set sizes are unequal.\n",
      "  DeprecationWarning)\n"
     ]
    }
   ],
   "source": [
    "# train/test split\n",
    "X_train_mean = train_mean.iloc[:, :-1]\n",
    "Y_train_mean = train_mean.iloc[:,-1]\n",
    "\n",
    "X_test_mean = test_mean.iloc[:, :-1]\n",
    "Y_test_mean = test_mean.iloc[:,-1]\n",
    "\n",
    "# KNN\n",
    "Y_pred_mean = KNN(X_train_mean, Y_train_mean, X_test_mean, Y_test_mean)\n",
    "\n",
    "knn_precision_mean = precision_score(Y_test_mean, Y_pred_mean)\n",
    "knn_recall_mean = recall_score(Y_test_mean, Y_pred_mean)\n",
    "knn_f1_mean = f1_score(Y_test_mean, Y_pred_mean)"
   ]
  },
  {
   "cell_type": "markdown",
   "metadata": {},
   "source": [
    "#### Max"
   ]
  },
  {
   "cell_type": "code",
   "execution_count": 21,
   "metadata": {},
   "outputs": [],
   "source": [
    "# try a different training and testing set\n",
    "data_visuals_max = load_visuals_data(path_vis_train, agg = 'max')\n",
    "\n",
    "# merge training data with visuals data\n",
    "train_max = pd.merge(data_visuals_max, data_training, left_index = True, right_index=True)\n",
    "\n",
    "# same with testing set\n",
    "data_visuals_test_max = load_visuals_data(path_vis_test, agg = 'max')\n",
    "\n",
    "# merge training data with visuals data\n",
    "test_max = pd.merge(data_visuals_test_max, data_testing, left_index = True, right_index=True)"
   ]
  },
  {
   "cell_type": "code",
   "execution_count": 22,
   "metadata": {},
   "outputs": [
    {
     "name": "stderr",
     "output_type": "stream",
     "text": [
      "C:\\Users\\lilli\\Anaconda3\\lib\\site-packages\\sklearn\\model_selection\\_search.py:841: DeprecationWarning: The default of the `iid` parameter will change from True to False in version 0.22 and will be removed in 0.24. This will change numeric results when test-set sizes are unequal.\n",
      "  DeprecationWarning)\n"
     ]
    }
   ],
   "source": [
    "# train/test split\n",
    "X_train_max = train_max.iloc[:, :-1]\n",
    "Y_train_max = train_max.iloc[:,-1]\n",
    "\n",
    "X_test_max = test_max.iloc[:, :-1]\n",
    "Y_test_max = test_max.iloc[:,-1]\n",
    "\n",
    "# KNN\n",
    "Y_pred_max = KNN(X_train_max, Y_train_max, X_test_max, Y_test_max)\n",
    "\n",
    "knn_precision_max = precision_score(Y_test_max, Y_pred_max)\n",
    "knn_recall_max = recall_score(Y_test_max, Y_pred_max)\n",
    "knn_f1_max = f1_score(Y_test_max, Y_pred_max)"
   ]
  },
  {
   "cell_type": "markdown",
   "metadata": {},
   "source": [
    "#### Min"
   ]
  },
  {
   "cell_type": "code",
   "execution_count": 23,
   "metadata": {},
   "outputs": [],
   "source": [
    "# try a different training and testing set\n",
    "data_visuals_min = load_visuals_data(path_vis_train, agg = 'min')\n",
    "\n",
    "# merge training data with visuals data\n",
    "train_min = pd.merge(data_visuals_min, data_training, left_index = True, right_index=True)\n",
    "\n",
    "# same with testing set\n",
    "data_visuals_test_min = load_visuals_data(path_vis_test, agg = 'min')\n",
    "\n",
    "# merge training data with visuals data\n",
    "test_min = pd.merge(data_visuals_test_min, data_testing, left_index = True, right_index=True)"
   ]
  },
  {
   "cell_type": "code",
   "execution_count": 24,
   "metadata": {},
   "outputs": [
    {
     "name": "stderr",
     "output_type": "stream",
     "text": [
      "C:\\Users\\lilli\\Anaconda3\\lib\\site-packages\\sklearn\\model_selection\\_search.py:841: DeprecationWarning: The default of the `iid` parameter will change from True to False in version 0.22 and will be removed in 0.24. This will change numeric results when test-set sizes are unequal.\n",
      "  DeprecationWarning)\n"
     ]
    }
   ],
   "source": [
    "# train/test split\n",
    "X_train_min = train_min.iloc[:, :-1]\n",
    "Y_train_min = train_min.iloc[:,-1]\n",
    "\n",
    "X_test_min = test_min.iloc[:, :-1]\n",
    "Y_test_min = test_min.iloc[:,-1]\n",
    "\n",
    "# KNN\n",
    "Y_pred_min = KNN(X_train_min, Y_train_min, X_test_min, Y_test_min)\n",
    "\n",
    "knn_precision_min = precision_score(Y_test_min, Y_pred_min)\n",
    "knn_recall_min = recall_score(Y_test_min, Y_pred_min)\n",
    "knn_f1_min = f1_score(Y_test_min, Y_pred_min)"
   ]
  },
  {
   "cell_type": "markdown",
   "metadata": {},
   "source": [
    "#### Keep only the first row"
   ]
  },
  {
   "cell_type": "code",
   "execution_count": 25,
   "metadata": {},
   "outputs": [],
   "source": [
    "# try a different training and testing set\n",
    "data_visuals_first = load_visuals_data(path_vis_train, agg = 'first')\n",
    "\n",
    "# merge training data with visuals data\n",
    "train_first = pd.merge(data_visuals_first, data_training, left_index = True, right_index=True)\n",
    "\n",
    "# same with testing set\n",
    "data_visuals_test_first = load_visuals_data(path_vis_test, agg = 'first')\n",
    "\n",
    "# merge training data with visuals data\n",
    "test_first = pd.merge(data_visuals_test_first, data_testing, left_index = True, right_index=True)"
   ]
  },
  {
   "cell_type": "code",
   "execution_count": 26,
   "metadata": {},
   "outputs": [
    {
     "name": "stderr",
     "output_type": "stream",
     "text": [
      "C:\\Users\\lilli\\Anaconda3\\lib\\site-packages\\sklearn\\model_selection\\_search.py:841: DeprecationWarning: The default of the `iid` parameter will change from True to False in version 0.22 and will be removed in 0.24. This will change numeric results when test-set sizes are unequal.\n",
      "  DeprecationWarning)\n"
     ]
    }
   ],
   "source": [
    "# train/test split\n",
    "X_train_first = train_first.iloc[:, :-1]\n",
    "Y_train_first = train_first.iloc[:,-1]\n",
    "\n",
    "X_test_first = test_first.iloc[:, :-1]\n",
    "Y_test_first = test_first.iloc[:,-1]\n",
    "\n",
    "# KNN\n",
    "Y_pred_first = KNN(X_train_first, Y_train_first, X_test_first, Y_test_first)\n",
    "\n",
    "knn_precision_first = precision_score(Y_test_first, Y_pred_first)\n",
    "knn_recall_first = recall_score(Y_test_first, Y_pred_first)\n",
    "knn_f1_first = f1_score(Y_test_first, Y_pred_first)"
   ]
  },
  {
   "cell_type": "markdown",
   "metadata": {},
   "source": [
    "#### Keep only the second row"
   ]
  },
  {
   "cell_type": "code",
   "execution_count": 27,
   "metadata": {},
   "outputs": [],
   "source": [
    "# try a different training and testing set\n",
    "data_visuals_last = load_visuals_data(path_vis_train, agg = 'last')\n",
    "\n",
    "# merge training data with visuals data\n",
    "train_last = pd.merge(data_visuals_last, data_training, left_index = True, right_index=True)\n",
    "\n",
    "# same with testing set\n",
    "data_visuals_test_last = load_visuals_data(path_vis_test, agg = 'last')\n",
    "\n",
    "# merge training data with visuals data\n",
    "test_last = pd.merge(data_visuals_test_last, data_testing, left_index = True, right_index=True)"
   ]
  },
  {
   "cell_type": "code",
   "execution_count": 28,
   "metadata": {},
   "outputs": [
    {
     "name": "stderr",
     "output_type": "stream",
     "text": [
      "C:\\Users\\lilli\\Anaconda3\\lib\\site-packages\\sklearn\\model_selection\\_search.py:841: DeprecationWarning: The default of the `iid` parameter will change from True to False in version 0.22 and will be removed in 0.24. This will change numeric results when test-set sizes are unequal.\n",
      "  DeprecationWarning)\n"
     ]
    }
   ],
   "source": [
    "# train/test split\n",
    "X_train_last = train_last.iloc[:, :-1]\n",
    "Y_train_last = train_last.iloc[:,-1]\n",
    "\n",
    "X_test_last = test_last.iloc[:, :-1]\n",
    "Y_test_last = test_last.iloc[:,-1]\n",
    "\n",
    "# KNN\n",
    "Y_pred_last = KNN(X_train_last, Y_train_last, X_test_last, Y_test_last)\n",
    "\n",
    "knn_precision_last = precision_score(Y_test_last, Y_pred_last)\n",
    "knn_recall_last = recall_score(Y_test_last, Y_pred_last)\n",
    "knn_f1_last = f1_score(Y_test_last, Y_pred_last)"
   ]
  },
  {
   "cell_type": "markdown",
   "metadata": {},
   "source": [
    "#### Print Precision, Recall, F1"
   ]
  },
  {
   "cell_type": "code",
   "execution_count": 29,
   "metadata": {},
   "outputs": [
    {
     "name": "stdout",
     "output_type": "stream",
     "text": [
      "KNN using all available Features\n",
      "-------------------------------------------------------------\n",
      "KNN - Keep both rows\n",
      "Precision of KNN : 0.5263157894736842\n",
      "Recall of KNN : 0.8333333333333334\n",
      "F1 of KNN : 0.6451612903225806\n",
      "-------------------------------------------------------------\n",
      "KNN - Keep only columnwise sum\n",
      "Precision of KNN : 0.5161290322580645\n",
      "Recall of KNN : 0.6666666666666666\n",
      "F1 of KNN : 0.5818181818181819\n",
      "-------------------------------------------------------------\n",
      "KNN - Keep only columnwise mean\n",
      "Precision of KNN : 0.5161290322580645\n",
      "Recall of KNN : 0.6666666666666666\n",
      "F1 of KNN : 0.5818181818181819\n",
      "-------------------------------------------------------------\n",
      "KNN - Keep only columnwise max\n",
      "Precision of KNN : 0.5588235294117647\n",
      "Recall of KNN : 0.7916666666666666\n",
      "F1 of KNN : 0.6551724137931034\n",
      "-------------------------------------------------------------\n",
      "KNN - Keep only columnwise min\n",
      "Precision of KNN : 0.5151515151515151\n",
      "Recall of KNN : 0.7083333333333334\n",
      "F1 of KNN : 0.5964912280701754\n",
      "-------------------------------------------------------------\n",
      "KNN - Keep only the first row\n",
      "Precision of KNN : 0.5384615384615384\n",
      "Recall of KNN : 0.5833333333333334\n",
      "F1 of KNN : 0.5599999999999999\n",
      "-------------------------------------------------------------\n",
      "KNN - Keep only the last row\n",
      "Precision of KNN : 0.5161290322580645\n",
      "Recall of KNN : 0.6666666666666666\n",
      "F1 of KNN : 0.5818181818181819\n",
      "-------------------------------------------------------------\n"
     ]
    }
   ],
   "source": [
    "print(\"KNN using all available Features\")\n",
    "print(\"-------------------------------------------------------------\")\n",
    "\n",
    "# none\n",
    "print(\"KNN - Keep both rows\")\n",
    "\n",
    "print(\"Precision of KNN : \" + str(knn_precision))\n",
    "print(\"Recall of KNN : \" + str(knn_recall))\n",
    "print(\"F1 of KNN : \" + str(knn_f1))\n",
    "print(\"-------------------------------------------------------------\")\n",
    "\n",
    "# sum\n",
    "print(\"KNN - Keep only columnwise sum\")\n",
    "\n",
    "print(\"Precision of KNN : \" + str(knn_precision_total))\n",
    "print(\"Recall of KNN : \" + str(knn_recall_total))\n",
    "print(\"F1 of KNN : \" + str(knn_f1_total))\n",
    "print(\"-------------------------------------------------------------\")\n",
    "\n",
    "# mean\n",
    "print(\"KNN - Keep only columnwise mean\")\n",
    "\n",
    "print(\"Precision of KNN : \" + str(knn_precision_mean))\n",
    "print(\"Recall of KNN : \" + str(knn_recall_mean))\n",
    "print(\"F1 of KNN : \" + str(knn_f1_mean))\n",
    "print(\"-------------------------------------------------------------\")\n",
    "\n",
    "# max\n",
    "print(\"KNN - Keep only columnwise max\")\n",
    "\n",
    "print(\"Precision of KNN : \" + str(knn_precision_max))\n",
    "print(\"Recall of KNN : \" + str(knn_recall_max))\n",
    "print(\"F1 of KNN : \" + str(knn_f1_max))\n",
    "print(\"-------------------------------------------------------------\")\n",
    "\n",
    "# min\n",
    "print(\"KNN - Keep only columnwise min\")\n",
    "\n",
    "print(\"Precision of KNN : \" + str(knn_precision_min))\n",
    "print(\"Recall of KNN : \" + str(knn_recall_min))\n",
    "print(\"F1 of KNN : \" + str(knn_f1_min))\n",
    "print(\"-------------------------------------------------------------\")\n",
    "\n",
    "# first\n",
    "print(\"KNN - Keep only the first row\")\n",
    "\n",
    "print(\"Precision of KNN : \" + str(knn_precision_first))\n",
    "print(\"Recall of KNN : \" + str(knn_recall_first))\n",
    "print(\"F1 of KNN : \" + str(knn_f1_first))\n",
    "print(\"-------------------------------------------------------------\")\n",
    "\n",
    "# last\n",
    "print(\"KNN - Keep only the last row\")\n",
    "\n",
    "print(\"Precision of KNN : \" + str(knn_precision_last))\n",
    "print(\"Recall of KNN : \" + str(knn_recall_last))\n",
    "print(\"F1 of KNN : \" + str(knn_f1_last))\n",
    "print(\"-------------------------------------------------------------\")"
   ]
  },
  {
   "cell_type": "markdown",
   "metadata": {},
   "source": [
    "### Try different aggregations for the training and testing set using all features"
   ]
  },
  {
   "cell_type": "markdown",
   "metadata": {},
   "source": [
    "#### Keep both rows"
   ]
  },
  {
   "cell_type": "code",
   "execution_count": 31,
   "metadata": {},
   "outputs": [
    {
     "name": "stdout",
     "output_type": "stream",
     "text": [
      "k:  0\n"
     ]
    },
    {
     "name": "stderr",
     "output_type": "stream",
     "text": [
      "C:\\Users\\lilli\\Anaconda3\\lib\\site-packages\\sklearn\\model_selection\\_search.py:841: DeprecationWarning: The default of the `iid` parameter will change from True to False in version 0.22 and will be removed in 0.24. This will change numeric results when test-set sizes are unequal.\n",
      "  DeprecationWarning)\n"
     ]
    },
    {
     "name": "stdout",
     "output_type": "stream",
     "text": [
      "k:  0\n"
     ]
    },
    {
     "name": "stderr",
     "output_type": "stream",
     "text": [
      "C:\\Users\\lilli\\Anaconda3\\lib\\site-packages\\sklearn\\model_selection\\_search.py:841: DeprecationWarning: The default of the `iid` parameter will change from True to False in version 0.22 and will be removed in 0.24. This will change numeric results when test-set sizes are unequal.\n",
      "  DeprecationWarning)\n"
     ]
    },
    {
     "name": "stdout",
     "output_type": "stream",
     "text": [
      "k:  0\n"
     ]
    },
    {
     "name": "stderr",
     "output_type": "stream",
     "text": [
      "C:\\Users\\lilli\\Anaconda3\\lib\\site-packages\\sklearn\\model_selection\\_search.py:841: DeprecationWarning: The default of the `iid` parameter will change from True to False in version 0.22 and will be removed in 0.24. This will change numeric results when test-set sizes are unequal.\n",
      "  DeprecationWarning)\n"
     ]
    },
    {
     "name": "stdout",
     "output_type": "stream",
     "text": [
      "k:  0\n"
     ]
    },
    {
     "name": "stderr",
     "output_type": "stream",
     "text": [
      "C:\\Users\\lilli\\Anaconda3\\lib\\site-packages\\sklearn\\model_selection\\_search.py:841: DeprecationWarning: The default of the `iid` parameter will change from True to False in version 0.22 and will be removed in 0.24. This will change numeric results when test-set sizes are unequal.\n",
      "  DeprecationWarning)\n"
     ]
    },
    {
     "name": "stdout",
     "output_type": "stream",
     "text": [
      "k:  1\n"
     ]
    },
    {
     "name": "stderr",
     "output_type": "stream",
     "text": [
      "C:\\Users\\lilli\\Anaconda3\\lib\\site-packages\\sklearn\\model_selection\\_search.py:841: DeprecationWarning: The default of the `iid` parameter will change from True to False in version 0.22 and will be removed in 0.24. This will change numeric results when test-set sizes are unequal.\n",
      "  DeprecationWarning)\n"
     ]
    },
    {
     "name": "stdout",
     "output_type": "stream",
     "text": [
      "k:  0\n"
     ]
    },
    {
     "name": "stderr",
     "output_type": "stream",
     "text": [
      "C:\\Users\\lilli\\Anaconda3\\lib\\site-packages\\sklearn\\model_selection\\_search.py:841: DeprecationWarning: The default of the `iid` parameter will change from True to False in version 0.22 and will be removed in 0.24. This will change numeric results when test-set sizes are unequal.\n",
      "  DeprecationWarning)\n"
     ]
    },
    {
     "name": "stdout",
     "output_type": "stream",
     "text": [
      "k:  1\n"
     ]
    },
    {
     "name": "stderr",
     "output_type": "stream",
     "text": [
      "C:\\Users\\lilli\\Anaconda3\\lib\\site-packages\\sklearn\\model_selection\\_search.py:841: DeprecationWarning: The default of the `iid` parameter will change from True to False in version 0.22 and will be removed in 0.24. This will change numeric results when test-set sizes are unequal.\n",
      "  DeprecationWarning)\n",
      "C:\\Users\\lilli\\Anaconda3\\lib\\site-packages\\sklearn\\model_selection\\_search.py:841: DeprecationWarning: The default of the `iid` parameter will change from True to False in version 0.22 and will be removed in 0.24. This will change numeric results when test-set sizes are unequal.\n",
      "  DeprecationWarning)\n"
     ]
    }
   ],
   "source": [
    "# set seed\n",
    "np.random.seed(1)\n",
    "\n",
    "# get features\n",
    "features = LVW(KNN, X_train, Y_train, X_test, Y_test, 2, range(0,X_train.shape[1]-1))\n",
    "\n",
    "# train/test split\n",
    "X_train_lvw = X_train[X_train.columns.intersection(features)]\n",
    "X_test_lvw = X_test[X_test.columns.intersection(features)]\n",
    "\n",
    "# KNN\n",
    "Y_pred_lvw = KNN(X_train_lvw, Y_train, X_test_lvw, Y_test)\n",
    "\n",
    "knn_precision_lvw = precision_score(Y_test, Y_pred_lvw)\n",
    "knn_recall_lvw = recall_score(Y_test, Y_pred_lvw)\n",
    "knn_f1_lvw = f1_score(Y_test, Y_pred_lvw)"
   ]
  },
  {
   "cell_type": "markdown",
   "metadata": {},
   "source": [
    "#### Keep the columnwise sum"
   ]
  },
  {
   "cell_type": "code",
   "execution_count": 32,
   "metadata": {},
   "outputs": [
    {
     "name": "stdout",
     "output_type": "stream",
     "text": [
      "k:  0\n"
     ]
    },
    {
     "name": "stderr",
     "output_type": "stream",
     "text": [
      "C:\\Users\\lilli\\Anaconda3\\lib\\site-packages\\sklearn\\model_selection\\_search.py:841: DeprecationWarning: The default of the `iid` parameter will change from True to False in version 0.22 and will be removed in 0.24. This will change numeric results when test-set sizes are unequal.\n",
      "  DeprecationWarning)\n"
     ]
    },
    {
     "name": "stdout",
     "output_type": "stream",
     "text": [
      "k:  0\n"
     ]
    },
    {
     "name": "stderr",
     "output_type": "stream",
     "text": [
      "C:\\Users\\lilli\\Anaconda3\\lib\\site-packages\\sklearn\\model_selection\\_search.py:841: DeprecationWarning: The default of the `iid` parameter will change from True to False in version 0.22 and will be removed in 0.24. This will change numeric results when test-set sizes are unequal.\n",
      "  DeprecationWarning)\n"
     ]
    },
    {
     "name": "stdout",
     "output_type": "stream",
     "text": [
      "k:  0\n"
     ]
    },
    {
     "name": "stderr",
     "output_type": "stream",
     "text": [
      "C:\\Users\\lilli\\Anaconda3\\lib\\site-packages\\sklearn\\model_selection\\_search.py:841: DeprecationWarning: The default of the `iid` parameter will change from True to False in version 0.22 and will be removed in 0.24. This will change numeric results when test-set sizes are unequal.\n",
      "  DeprecationWarning)\n"
     ]
    },
    {
     "name": "stdout",
     "output_type": "stream",
     "text": [
      "k:  1\n"
     ]
    },
    {
     "name": "stderr",
     "output_type": "stream",
     "text": [
      "C:\\Users\\lilli\\Anaconda3\\lib\\site-packages\\sklearn\\model_selection\\_search.py:841: DeprecationWarning: The default of the `iid` parameter will change from True to False in version 0.22 and will be removed in 0.24. This will change numeric results when test-set sizes are unequal.\n",
      "  DeprecationWarning)\n",
      "C:\\Users\\lilli\\Anaconda3\\lib\\site-packages\\sklearn\\model_selection\\_search.py:841: DeprecationWarning: The default of the `iid` parameter will change from True to False in version 0.22 and will be removed in 0.24. This will change numeric results when test-set sizes are unequal.\n",
      "  DeprecationWarning)\n"
     ]
    }
   ],
   "source": [
    "# set seed\n",
    "np.random.seed(1)\n",
    "\n",
    "# get features\n",
    "features_total = LVW(KNN, X_train_total, Y_train_total, X_test_total, Y_test_total, 2,\n",
    "                     range(0,X_train_total.shape[1]-1))\n",
    "\n",
    "# train/test split\n",
    "X_train_lvw_total = X_train_total[X_train_total.columns.intersection(features_total)]\n",
    "X_test_lvw_total = X_test_total[X_test_total.columns.intersection(features_total)]\n",
    "\n",
    "# KNN\n",
    "Y_pred_lvw_total = KNN(X_train_lvw_total, Y_train_total, X_test_lvw_total, Y_test_total)\n",
    "\n",
    "knn_precision_lvw_total = precision_score(Y_test_total, Y_pred_lvw_total)\n",
    "knn_recall_lvw_total = recall_score(Y_test_total, Y_pred_lvw_total)\n",
    "knn_f1_lvw_total = f1_score(Y_test_total, Y_pred_lvw_total)"
   ]
  },
  {
   "cell_type": "markdown",
   "metadata": {},
   "source": [
    "#### Keep only the columnwise mean"
   ]
  },
  {
   "cell_type": "code",
   "execution_count": 33,
   "metadata": {},
   "outputs": [
    {
     "name": "stdout",
     "output_type": "stream",
     "text": [
      "k:  0\n"
     ]
    },
    {
     "name": "stderr",
     "output_type": "stream",
     "text": [
      "C:\\Users\\lilli\\Anaconda3\\lib\\site-packages\\sklearn\\model_selection\\_search.py:841: DeprecationWarning: The default of the `iid` parameter will change from True to False in version 0.22 and will be removed in 0.24. This will change numeric results when test-set sizes are unequal.\n",
      "  DeprecationWarning)\n"
     ]
    },
    {
     "name": "stdout",
     "output_type": "stream",
     "text": [
      "k:  0\n"
     ]
    },
    {
     "name": "stderr",
     "output_type": "stream",
     "text": [
      "C:\\Users\\lilli\\Anaconda3\\lib\\site-packages\\sklearn\\model_selection\\_search.py:841: DeprecationWarning: The default of the `iid` parameter will change from True to False in version 0.22 and will be removed in 0.24. This will change numeric results when test-set sizes are unequal.\n",
      "  DeprecationWarning)\n"
     ]
    },
    {
     "name": "stdout",
     "output_type": "stream",
     "text": [
      "k:  1\n"
     ]
    },
    {
     "name": "stderr",
     "output_type": "stream",
     "text": [
      "C:\\Users\\lilli\\Anaconda3\\lib\\site-packages\\sklearn\\model_selection\\_search.py:841: DeprecationWarning: The default of the `iid` parameter will change from True to False in version 0.22 and will be removed in 0.24. This will change numeric results when test-set sizes are unequal.\n",
      "  DeprecationWarning)\n",
      "C:\\Users\\lilli\\Anaconda3\\lib\\site-packages\\sklearn\\model_selection\\_search.py:841: DeprecationWarning: The default of the `iid` parameter will change from True to False in version 0.22 and will be removed in 0.24. This will change numeric results when test-set sizes are unequal.\n",
      "  DeprecationWarning)\n"
     ]
    }
   ],
   "source": [
    "# set seed\n",
    "np.random.seed(1)\n",
    "\n",
    "# get features\n",
    "features_mean = LVW(KNN, X_train_mean, Y_train_mean, X_test_mean, Y_test_mean, 2,\n",
    "                     range(0,X_train_mean.shape[1]-1))\n",
    "\n",
    "# train/test split\n",
    "X_train_lvw_mean = X_train_mean[X_train_mean.columns.intersection(features_mean)]\n",
    "X_test_lvw_mean = X_test_mean[X_test_mean.columns.intersection(features_mean)]\n",
    "\n",
    "# KNN\n",
    "Y_pred_lvw_mean = KNN(X_train_lvw_mean, Y_train_mean, X_test_lvw_mean, Y_test_mean)\n",
    "\n",
    "knn_precision_lvw_mean = precision_score(Y_test_mean, Y_pred_lvw_mean)\n",
    "knn_recall_lvw_mean = recall_score(Y_test_mean, Y_pred_lvw_mean)\n",
    "knn_f1_lvw_mean = f1_score(Y_test_mean, Y_pred_lvw_mean)"
   ]
  },
  {
   "cell_type": "markdown",
   "metadata": {},
   "source": [
    "#### Keep only the columnwise max"
   ]
  },
  {
   "cell_type": "code",
   "execution_count": 34,
   "metadata": {},
   "outputs": [
    {
     "name": "stdout",
     "output_type": "stream",
     "text": [
      "k:  0\n"
     ]
    },
    {
     "name": "stderr",
     "output_type": "stream",
     "text": [
      "C:\\Users\\lilli\\Anaconda3\\lib\\site-packages\\sklearn\\model_selection\\_search.py:841: DeprecationWarning: The default of the `iid` parameter will change from True to False in version 0.22 and will be removed in 0.24. This will change numeric results when test-set sizes are unequal.\n",
      "  DeprecationWarning)\n"
     ]
    },
    {
     "name": "stdout",
     "output_type": "stream",
     "text": [
      "k:  0\n"
     ]
    },
    {
     "name": "stderr",
     "output_type": "stream",
     "text": [
      "C:\\Users\\lilli\\Anaconda3\\lib\\site-packages\\sklearn\\model_selection\\_search.py:841: DeprecationWarning: The default of the `iid` parameter will change from True to False in version 0.22 and will be removed in 0.24. This will change numeric results when test-set sizes are unequal.\n",
      "  DeprecationWarning)\n"
     ]
    },
    {
     "name": "stdout",
     "output_type": "stream",
     "text": [
      "k:  0\n"
     ]
    },
    {
     "name": "stderr",
     "output_type": "stream",
     "text": [
      "C:\\Users\\lilli\\Anaconda3\\lib\\site-packages\\sklearn\\model_selection\\_search.py:841: DeprecationWarning: The default of the `iid` parameter will change from True to False in version 0.22 and will be removed in 0.24. This will change numeric results when test-set sizes are unequal.\n",
      "  DeprecationWarning)\n"
     ]
    },
    {
     "name": "stdout",
     "output_type": "stream",
     "text": [
      "k:  1\n"
     ]
    },
    {
     "name": "stderr",
     "output_type": "stream",
     "text": [
      "C:\\Users\\lilli\\Anaconda3\\lib\\site-packages\\sklearn\\model_selection\\_search.py:841: DeprecationWarning: The default of the `iid` parameter will change from True to False in version 0.22 and will be removed in 0.24. This will change numeric results when test-set sizes are unequal.\n",
      "  DeprecationWarning)\n"
     ]
    },
    {
     "name": "stdout",
     "output_type": "stream",
     "text": [
      "k:  0\n"
     ]
    },
    {
     "name": "stderr",
     "output_type": "stream",
     "text": [
      "C:\\Users\\lilli\\Anaconda3\\lib\\site-packages\\sklearn\\model_selection\\_search.py:841: DeprecationWarning: The default of the `iid` parameter will change from True to False in version 0.22 and will be removed in 0.24. This will change numeric results when test-set sizes are unequal.\n",
      "  DeprecationWarning)\n"
     ]
    },
    {
     "name": "stdout",
     "output_type": "stream",
     "text": [
      "k:  1\n"
     ]
    },
    {
     "name": "stderr",
     "output_type": "stream",
     "text": [
      "C:\\Users\\lilli\\Anaconda3\\lib\\site-packages\\sklearn\\model_selection\\_search.py:841: DeprecationWarning: The default of the `iid` parameter will change from True to False in version 0.22 and will be removed in 0.24. This will change numeric results when test-set sizes are unequal.\n",
      "  DeprecationWarning)\n",
      "C:\\Users\\lilli\\Anaconda3\\lib\\site-packages\\sklearn\\model_selection\\_search.py:841: DeprecationWarning: The default of the `iid` parameter will change from True to False in version 0.22 and will be removed in 0.24. This will change numeric results when test-set sizes are unequal.\n",
      "  DeprecationWarning)\n"
     ]
    }
   ],
   "source": [
    "# set seed\n",
    "np.random.seed(1)\n",
    "\n",
    "# get features\n",
    "features_max = LVW(KNN, X_train_max, Y_train_max, X_test_max, Y_test_max, 2,\n",
    "                     range(0,X_train_max.shape[1]-1))\n",
    "\n",
    "# train/test split\n",
    "X_train_lvw_max = X_train_max[X_train_max.columns.intersection(features_max)]\n",
    "X_test_lvw_max = X_test_max[X_test_max.columns.intersection(features_max)]\n",
    "\n",
    "# KNN\n",
    "Y_pred_lvw_max = KNN(X_train_lvw_max, Y_train_max, X_test_lvw_max, Y_test_max)\n",
    "\n",
    "knn_precision_lvw_max = precision_score(Y_test_max, Y_pred_lvw_max)\n",
    "knn_recall_lvw_max = recall_score(Y_test_max, Y_pred_lvw_max)\n",
    "knn_f1_lvw_max = f1_score(Y_test_max, Y_pred_lvw_max)"
   ]
  },
  {
   "cell_type": "markdown",
   "metadata": {},
   "source": [
    "#### Keep only the columnwise min"
   ]
  },
  {
   "cell_type": "code",
   "execution_count": 35,
   "metadata": {},
   "outputs": [
    {
     "name": "stdout",
     "output_type": "stream",
     "text": [
      "k:  0\n"
     ]
    },
    {
     "name": "stderr",
     "output_type": "stream",
     "text": [
      "C:\\Users\\lilli\\Anaconda3\\lib\\site-packages\\sklearn\\model_selection\\_search.py:841: DeprecationWarning: The default of the `iid` parameter will change from True to False in version 0.22 and will be removed in 0.24. This will change numeric results when test-set sizes are unequal.\n",
      "  DeprecationWarning)\n"
     ]
    },
    {
     "name": "stdout",
     "output_type": "stream",
     "text": [
      "k:  0\n"
     ]
    },
    {
     "name": "stderr",
     "output_type": "stream",
     "text": [
      "C:\\Users\\lilli\\Anaconda3\\lib\\site-packages\\sklearn\\model_selection\\_search.py:841: DeprecationWarning: The default of the `iid` parameter will change from True to False in version 0.22 and will be removed in 0.24. This will change numeric results when test-set sizes are unequal.\n",
      "  DeprecationWarning)\n"
     ]
    },
    {
     "name": "stdout",
     "output_type": "stream",
     "text": [
      "k:  1\n"
     ]
    },
    {
     "name": "stderr",
     "output_type": "stream",
     "text": [
      "C:\\Users\\lilli\\Anaconda3\\lib\\site-packages\\sklearn\\model_selection\\_search.py:841: DeprecationWarning: The default of the `iid` parameter will change from True to False in version 0.22 and will be removed in 0.24. This will change numeric results when test-set sizes are unequal.\n",
      "  DeprecationWarning)\n"
     ]
    },
    {
     "name": "stdout",
     "output_type": "stream",
     "text": [
      "k:  0\n"
     ]
    },
    {
     "name": "stderr",
     "output_type": "stream",
     "text": [
      "C:\\Users\\lilli\\Anaconda3\\lib\\site-packages\\sklearn\\model_selection\\_search.py:841: DeprecationWarning: The default of the `iid` parameter will change from True to False in version 0.22 and will be removed in 0.24. This will change numeric results when test-set sizes are unequal.\n",
      "  DeprecationWarning)\n"
     ]
    },
    {
     "name": "stdout",
     "output_type": "stream",
     "text": [
      "k:  1\n"
     ]
    },
    {
     "name": "stderr",
     "output_type": "stream",
     "text": [
      "C:\\Users\\lilli\\Anaconda3\\lib\\site-packages\\sklearn\\model_selection\\_search.py:841: DeprecationWarning: The default of the `iid` parameter will change from True to False in version 0.22 and will be removed in 0.24. This will change numeric results when test-set sizes are unequal.\n",
      "  DeprecationWarning)\n",
      "C:\\Users\\lilli\\Anaconda3\\lib\\site-packages\\sklearn\\model_selection\\_search.py:841: DeprecationWarning: The default of the `iid` parameter will change from True to False in version 0.22 and will be removed in 0.24. This will change numeric results when test-set sizes are unequal.\n",
      "  DeprecationWarning)\n"
     ]
    }
   ],
   "source": [
    "# set seed\n",
    "np.random.seed(1)\n",
    "\n",
    "# get features\n",
    "features_min = LVW(KNN, X_train_min, Y_train_min, X_test_min, Y_test_min, 2,\n",
    "                     range(0,X_train_min.shape[1]-1))\n",
    "\n",
    "# train/test split\n",
    "X_train_lvw_min = X_train_min[X_train_min.columns.intersection(features_min)]\n",
    "X_test_lvw_min = X_test_min[X_test_min.columns.intersection(features_min)]\n",
    "\n",
    "# KNN\n",
    "Y_pred_lvw_min = KNN(X_train_lvw_min, Y_train_min, X_test_lvw_min, Y_test_min)\n",
    "\n",
    "knn_precision_lvw_min = precision_score(Y_test_min, Y_pred_lvw_min)\n",
    "knn_recall_lvw_min = recall_score(Y_test_min, Y_pred_lvw_min)\n",
    "knn_f1_lvw_min = f1_score(Y_test_min, Y_pred_lvw_min)"
   ]
  },
  {
   "cell_type": "markdown",
   "metadata": {},
   "source": [
    "#### Keep only the first row"
   ]
  },
  {
   "cell_type": "code",
   "execution_count": 36,
   "metadata": {},
   "outputs": [
    {
     "name": "stdout",
     "output_type": "stream",
     "text": [
      "k:  0\n"
     ]
    },
    {
     "name": "stderr",
     "output_type": "stream",
     "text": [
      "C:\\Users\\lilli\\Anaconda3\\lib\\site-packages\\sklearn\\model_selection\\_search.py:841: DeprecationWarning: The default of the `iid` parameter will change from True to False in version 0.22 and will be removed in 0.24. This will change numeric results when test-set sizes are unequal.\n",
      "  DeprecationWarning)\n"
     ]
    },
    {
     "name": "stdout",
     "output_type": "stream",
     "text": [
      "k:  0\n"
     ]
    },
    {
     "name": "stderr",
     "output_type": "stream",
     "text": [
      "C:\\Users\\lilli\\Anaconda3\\lib\\site-packages\\sklearn\\model_selection\\_search.py:841: DeprecationWarning: The default of the `iid` parameter will change from True to False in version 0.22 and will be removed in 0.24. This will change numeric results when test-set sizes are unequal.\n",
      "  DeprecationWarning)\n"
     ]
    },
    {
     "name": "stdout",
     "output_type": "stream",
     "text": [
      "k:  1\n"
     ]
    },
    {
     "name": "stderr",
     "output_type": "stream",
     "text": [
      "C:\\Users\\lilli\\Anaconda3\\lib\\site-packages\\sklearn\\model_selection\\_search.py:841: DeprecationWarning: The default of the `iid` parameter will change from True to False in version 0.22 and will be removed in 0.24. This will change numeric results when test-set sizes are unequal.\n",
      "  DeprecationWarning)\n",
      "C:\\Users\\lilli\\Anaconda3\\lib\\site-packages\\sklearn\\model_selection\\_search.py:841: DeprecationWarning: The default of the `iid` parameter will change from True to False in version 0.22 and will be removed in 0.24. This will change numeric results when test-set sizes are unequal.\n",
      "  DeprecationWarning)\n"
     ]
    }
   ],
   "source": [
    "# set seed\n",
    "np.random.seed(1)\n",
    "\n",
    "# get features\n",
    "features_first = LVW(KNN, X_train_first, Y_train_first, X_test_first, Y_test_first, 2,\n",
    "                     range(0,X_train_first.shape[1]-1))\n",
    "\n",
    "# train/test split\n",
    "X_train_lvw_first = X_train_first[X_train_first.columns.intersection(features_first)]\n",
    "X_test_lvw_first = X_test_first[X_test_first.columns.intersection(features_first)]\n",
    "\n",
    "# KNN\n",
    "Y_pred_lvw_first = KNN(X_train_lvw_first, Y_train_first, X_test_lvw_first, Y_test_first)\n",
    "\n",
    "knn_precision_lvw_first = precision_score(Y_test_first, Y_pred_lvw_first)\n",
    "knn_recall_lvw_first = recall_score(Y_test_first, Y_pred_lvw_first)\n",
    "knn_f1_lvw_first = f1_score(Y_test_first, Y_pred_lvw_first)"
   ]
  },
  {
   "cell_type": "markdown",
   "metadata": {},
   "source": [
    "#### Keep only the second row"
   ]
  },
  {
   "cell_type": "code",
   "execution_count": 37,
   "metadata": {},
   "outputs": [
    {
     "name": "stdout",
     "output_type": "stream",
     "text": [
      "k:  0\n"
     ]
    },
    {
     "name": "stderr",
     "output_type": "stream",
     "text": [
      "C:\\Users\\lilli\\Anaconda3\\lib\\site-packages\\sklearn\\model_selection\\_search.py:841: DeprecationWarning: The default of the `iid` parameter will change from True to False in version 0.22 and will be removed in 0.24. This will change numeric results when test-set sizes are unequal.\n",
      "  DeprecationWarning)\n"
     ]
    },
    {
     "name": "stdout",
     "output_type": "stream",
     "text": [
      "k:  0\n"
     ]
    },
    {
     "name": "stderr",
     "output_type": "stream",
     "text": [
      "C:\\Users\\lilli\\Anaconda3\\lib\\site-packages\\sklearn\\model_selection\\_search.py:841: DeprecationWarning: The default of the `iid` parameter will change from True to False in version 0.22 and will be removed in 0.24. This will change numeric results when test-set sizes are unequal.\n",
      "  DeprecationWarning)\n"
     ]
    },
    {
     "name": "stdout",
     "output_type": "stream",
     "text": [
      "k:  1\n"
     ]
    },
    {
     "name": "stderr",
     "output_type": "stream",
     "text": [
      "C:\\Users\\lilli\\Anaconda3\\lib\\site-packages\\sklearn\\model_selection\\_search.py:841: DeprecationWarning: The default of the `iid` parameter will change from True to False in version 0.22 and will be removed in 0.24. This will change numeric results when test-set sizes are unequal.\n",
      "  DeprecationWarning)\n",
      "C:\\Users\\lilli\\Anaconda3\\lib\\site-packages\\sklearn\\model_selection\\_search.py:841: DeprecationWarning: The default of the `iid` parameter will change from True to False in version 0.22 and will be removed in 0.24. This will change numeric results when test-set sizes are unequal.\n",
      "  DeprecationWarning)\n"
     ]
    }
   ],
   "source": [
    "# set seed\n",
    "np.random.seed(1)\n",
    "\n",
    "# get features\n",
    "features_last = LVW(KNN, X_train_last, Y_train_last, X_test_last, Y_test_last, 2,\n",
    "                     range(0,X_train_last.shape[1]-1))\n",
    "\n",
    "# train/test split\n",
    "X_train_lvw_last = X_train_last[X_train_last.columns.intersection(features_last)]\n",
    "X_test_lvw_last = X_test_last[X_test_last.columns.intersection(features_last)]\n",
    "\n",
    "# KNN\n",
    "Y_pred_lvw_last = KNN(X_train_lvw_last, Y_train_last, X_test_lvw_last, Y_test_last)\n",
    "\n",
    "knn_precision_lvw_last = precision_score(Y_test_last, Y_pred_lvw_last)\n",
    "knn_recall_lvw_last = recall_score(Y_test_last, Y_pred_lvw_last)\n",
    "knn_f1_lvw_last = f1_score(Y_test_last, Y_pred_lvw_last)"
   ]
  },
  {
   "cell_type": "markdown",
   "metadata": {},
   "source": [
    "#### Print Precision, Recall, F1"
   ]
  },
  {
   "cell_type": "code",
   "execution_count": 38,
   "metadata": {},
   "outputs": [
    {
     "name": "stdout",
     "output_type": "stream",
     "text": [
      "KNN using LVW Feature Selection\n",
      "-------------------------------------------------------------\n",
      "KNN - Keep both rows\n",
      "Precision of KNN : 0.4444444444444444\n",
      "Recall of KNN : 0.3333333333333333\n",
      "F1 of KNN : 0.380952380952381\n",
      "-------------------------------------------------------------\n",
      "KNN - Keep only columnwise sum\n",
      "Precision of KNN : 0.4782608695652174\n",
      "Recall of KNN : 0.4583333333333333\n",
      "F1 of KNN : 0.4680851063829787\n",
      "-------------------------------------------------------------\n",
      "KNN - Keep only columnwise mean\n",
      "Precision of KNN : 0.4782608695652174\n",
      "Recall of KNN : 0.4583333333333333\n",
      "F1 of KNN : 0.4680851063829787\n",
      "-------------------------------------------------------------\n",
      "KNN - Keep only columnwise max\n",
      "Precision of KNN : 0.4594594594594595\n",
      "Recall of KNN : 0.7083333333333334\n",
      "F1 of KNN : 0.5573770491803279\n",
      "-------------------------------------------------------------\n",
      "KNN - Keep only columnwise min\n",
      "Precision of KNN : 0.5\n",
      "Recall of KNN : 0.5416666666666666\n",
      "F1 of KNN : 0.52\n",
      "-------------------------------------------------------------\n",
      "KNN - Keep only the first row\n",
      "Precision of KNN : 0.5\n",
      "Recall of KNN : 0.5\n",
      "F1 of KNN : 0.5\n",
      "-------------------------------------------------------------\n",
      "KNN - Keep only the last row\n",
      "Precision of KNN : 0.5185185185185185\n",
      "Recall of KNN : 0.5833333333333334\n",
      "F1 of KNN : 0.5490196078431373\n",
      "-------------------------------------------------------------\n"
     ]
    }
   ],
   "source": [
    "print(\"KNN using LVW Feature Selection\")\n",
    "print(\"-------------------------------------------------------------\")\n",
    "\n",
    "# none\n",
    "print(\"KNN - Keep both rows\")\n",
    "\n",
    "print(\"Precision of KNN : \" + str(knn_precision_lvw))\n",
    "print(\"Recall of KNN : \" + str(knn_recall_lvw))\n",
    "print(\"F1 of KNN : \" + str(knn_f1_lvw))\n",
    "print(\"-------------------------------------------------------------\")\n",
    "\n",
    "# sum\n",
    "print(\"KNN - Keep only columnwise sum\")\n",
    "\n",
    "print(\"Precision of KNN : \" + str(knn_precision_lvw_total))\n",
    "print(\"Recall of KNN : \" + str(knn_recall_lvw_total))\n",
    "print(\"F1 of KNN : \" + str(knn_f1_lvw_total))\n",
    "print(\"-------------------------------------------------------------\")\n",
    "\n",
    "# mean\n",
    "print(\"KNN - Keep only columnwise mean\")\n",
    "\n",
    "print(\"Precision of KNN : \" + str(knn_precision_lvw_mean))\n",
    "print(\"Recall of KNN : \" + str(knn_recall_lvw_mean))\n",
    "print(\"F1 of KNN : \" + str(knn_f1_lvw_mean))\n",
    "print(\"-------------------------------------------------------------\")\n",
    "\n",
    "# max\n",
    "print(\"KNN - Keep only columnwise max\")\n",
    "\n",
    "print(\"Precision of KNN : \" + str(knn_precision_lvw_max))\n",
    "print(\"Recall of KNN : \" + str(knn_recall_lvw_max))\n",
    "print(\"F1 of KNN : \" + str(knn_f1_lvw_max))\n",
    "print(\"-------------------------------------------------------------\")\n",
    "\n",
    "# last\n",
    "print(\"KNN - Keep only columnwise min\")\n",
    "\n",
    "print(\"Precision of KNN : \" + str(knn_precision_lvw_min))\n",
    "print(\"Recall of KNN : \" + str(knn_recall_lvw_min))\n",
    "print(\"F1 of KNN : \" + str(knn_f1_lvw_min))\n",
    "print(\"-------------------------------------------------------------\")\n",
    "\n",
    "# first\n",
    "print(\"KNN - Keep only the first row\")\n",
    "\n",
    "print(\"Precision of KNN : \" + str(knn_precision_lvw_first))\n",
    "print(\"Recall of KNN : \" + str(knn_recall_lvw_first))\n",
    "print(\"F1 of KNN : \" + str(knn_f1_lvw_first))\n",
    "print(\"-------------------------------------------------------------\")\n",
    "\n",
    "# last\n",
    "print(\"KNN - Keep only the last row\")\n",
    "\n",
    "print(\"Precision of KNN : \" + str(knn_precision_lvw_last))\n",
    "print(\"Recall of KNN : \" + str(knn_recall_lvw_last))\n",
    "print(\"F1 of KNN : \" + str(knn_f1_lvw_last))\n",
    "print(\"-------------------------------------------------------------\")"
   ]
  },
  {
   "cell_type": "code",
   "execution_count": null,
   "metadata": {},
   "outputs": [],
   "source": []
  },
  {
   "cell_type": "code",
   "execution_count": null,
   "metadata": {},
   "outputs": [],
   "source": []
  }
 ],
 "metadata": {
  "kernelspec": {
   "display_name": "Python 3",
   "language": "python",
   "name": "python3"
  },
  "language_info": {
   "codemirror_mode": {
    "name": "ipython",
    "version": 3
   },
   "file_extension": ".py",
   "mimetype": "text/x-python",
   "name": "python",
   "nbconvert_exporter": "python",
   "pygments_lexer": "ipython3",
   "version": "3.7.1"
  }
 },
 "nbformat": 4,
 "nbformat_minor": 4
}
